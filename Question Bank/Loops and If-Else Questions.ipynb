{
 "cells": [
  {
   "cell_type": "markdown",
   "id": "a83b33a0",
   "metadata": {},
   "source": [
    "## Questions on If-elif-else, For and While Loop"
   ]
  },
  {
   "cell_type": "markdown",
   "id": "45f347ab",
   "metadata": {},
   "source": [
    "<b>1) Accept marks as integer as user input. Generate the following output based on marks <br>\n",
    "a) If marks<=50, grade is Poor. <br>\n",
    "b) If marks>=51 and marks<=65, grade is Average.<br>\n",
    "c) if marks>66 and marks<=80, grade is Good.<br>\n",
    "d) if marks>81 and marks<=100, grade is Excellent.<br>\n",
    "e) Othewise print Invalid Marks</b>"
   ]
  },
  {
   "cell_type": "code",
   "execution_count": 3,
   "id": "c9cbd6ea",
   "metadata": {},
   "outputs": [
    {
     "name": "stdout",
     "output_type": "stream",
     "text": [
      "Enter marks: 79\n",
      "Grade is Good\n"
     ]
    }
   ],
   "source": [
    "m=int(input('Enter marks: '))\n",
    "if m>=0 and m<=50:\n",
    "    print('Grade is Poor')\n",
    "elif m>=51 and m<=65:\n",
    "    print('Grade is Average')\n",
    "elif m>=66 and m<=80:\n",
    "    print('Grade is Good')\n",
    "elif m>=81 and m<= 100:\n",
    "    print('Grade is Excellent')\n",
    "else:\n",
    "    print('Invalid Marks')"
   ]
  },
  {
   "cell_type": "markdown",
   "id": "2d240a58",
   "metadata": {},
   "source": [
    "<b>2) Accept two numbers from user, compute the difference between the two numbers. Print the max and min value of the two numbers.<b/>"
   ]
  },
  {
   "cell_type": "code",
   "execution_count": 43,
   "id": "89df997e",
   "metadata": {},
   "outputs": [
    {
     "name": "stdout",
     "output_type": "stream",
     "text": [
      "Enter a Number: 678\n",
      "Enter a Number: 789\n",
      "The difference between the two numbers is -111\n",
      "Max Value of the two numbers is 789\n",
      "Min Value of the two numbers is 678\n",
      "Max value is 789 and Min value is 678\n",
      "The difference between the two numbers is 111\n"
     ]
    }
   ],
   "source": [
    "a=int(input('Enter a Number: '))\n",
    "b=int(input('Enter a Number: '))\n",
    "print('The difference between the two numbers is',a-b)\n",
    "print('Max Value of the two numbers is',max(a,b))\n",
    "print('Min Value of the two numbers is',min(a,b))\n",
    "if a>b:\n",
    "    print('Max value is',a, 'and Min value is',b)\n",
    "else:\n",
    "    print('Max value is',b, 'and Min value is',a)\n",
    "print('The difference between the two numbers is',max(a,b)-min(a,b))"
   ]
  },
  {
   "cell_type": "markdown",
   "id": "4e239ce1",
   "metadata": {},
   "source": [
    "<b>3) Write the code to print sum of <br>\n",
    "a) 10 odd numbers starting from 1 using for loop <br>\n",
    "b) 15 even numbers starting from 2 using while loop</b>"
   ]
  },
  {
   "cell_type": "code",
   "execution_count": 39,
   "id": "48fc90b4",
   "metadata": {},
   "outputs": [
    {
     "name": "stdout",
     "output_type": "stream",
     "text": [
      "Odd Numbers:\n",
      "1 3 5 7 9 11 13 15 17 19 "
     ]
    }
   ],
   "source": [
    "print('Odd Numbers:')\n",
    "for o in range(1,20,2):\n",
    "    print(o,end=\" \")"
   ]
  },
  {
   "cell_type": "code",
   "execution_count": 52,
   "id": "9340fc8e",
   "metadata": {},
   "outputs": [
    {
     "name": "stdout",
     "output_type": "stream",
     "text": [
      "Sum of 10 odd numbers starting from 1 is 100\n"
     ]
    }
   ],
   "source": [
    "p=0\n",
    "for o in range(1,20,2):\n",
    "    p=p+o\n",
    "print('Sum of 10 odd numbers starting from 1 is',p)"
   ]
  },
  {
   "cell_type": "code",
   "execution_count": 47,
   "id": "7e0547cc",
   "metadata": {},
   "outputs": [
    {
     "name": "stdout",
     "output_type": "stream",
     "text": [
      "Sum of 10 odd numbers starting from 1 is 100\n"
     ]
    }
   ],
   "source": [
    "s=0\n",
    "for i in range(1,20,2):\n",
    "    s+=i\n",
    "print('Sum of 10 odd numbers starting from 1 is',s)"
   ]
  },
  {
   "cell_type": "code",
   "execution_count": 43,
   "id": "5fa35728",
   "metadata": {},
   "outputs": [
    {
     "name": "stdout",
     "output_type": "stream",
     "text": [
      "Even Numbers:\n",
      "2 4 6 8 10 12 14 16 18 20 22 24 26 28 30 "
     ]
    }
   ],
   "source": [
    "print('Even Numbers:')\n",
    "for e in range(2,32,2):\n",
    "    print(e,end=\" \")"
   ]
  },
  {
   "cell_type": "code",
   "execution_count": 56,
   "id": "70f30dce",
   "metadata": {},
   "outputs": [
    {
     "name": "stdout",
     "output_type": "stream",
     "text": [
      "Sum of 15 even numbers starting from 2 is 240\n"
     ]
    }
   ],
   "source": [
    "l=0\n",
    "for e in range(2,32,2):\n",
    "    l=l+e\n",
    "print('Sum of 15 even numbers starting from 2 is',l)"
   ]
  },
  {
   "cell_type": "code",
   "execution_count": 48,
   "id": "6229d6f2",
   "metadata": {},
   "outputs": [
    {
     "name": "stdout",
     "output_type": "stream",
     "text": [
      "240\n"
     ]
    }
   ],
   "source": [
    "i=2\n",
    "s=0\n",
    "while i<=30:\n",
    "    s+=i\n",
    "    i+=2\n",
    "print(s)"
   ]
  },
  {
   "cell_type": "markdown",
   "id": "47731abf",
   "metadata": {},
   "source": [
    "<b>4) Accept a number from the user and print <br>\n",
    "a) All the factors of the numbers.<br>\n",
    "b) Print even or odd depending on the number.</b>"
   ]
  },
  {
   "cell_type": "code",
   "execution_count": 4,
   "id": "84f99c00",
   "metadata": {},
   "outputs": [
    {
     "name": "stdout",
     "output_type": "stream",
     "text": [
      "Enter a number:12\n",
      "The factors of 12 are [1, 2, 3, 4, 6, 12]\n"
     ]
    }
   ],
   "source": [
    "e=int(input('Enter a number:'))\n",
    "r=[i for i in range(1,e+1) if e%i==0]\n",
    "print('The factors of',e,'are',r)        "
   ]
  },
  {
   "cell_type": "code",
   "execution_count": 60,
   "id": "6b64030d",
   "metadata": {},
   "outputs": [
    {
     "name": "stdout",
     "output_type": "stream",
     "text": [
      "Enter a number:90\n",
      "90 is an even number\n"
     ]
    }
   ],
   "source": [
    "n=int(input('Enter a number:'))\n",
    "if n%2==0:\n",
    "    print(n,'is an even number')\n",
    "else:\n",
    "    print(n,'is an odd number')"
   ]
  },
  {
   "cell_type": "code",
   "execution_count": 33,
   "id": "e38e99cd",
   "metadata": {},
   "outputs": [
    {
     "name": "stdout",
     "output_type": "stream",
     "text": [
      "Enter a number:12\n",
      "The factors of 12 are [1, 2, 3, 4, 6, 12]\n",
      "12 is an even number\n"
     ]
    }
   ],
   "source": [
    "e=int(input('Enter a number:'))\n",
    "r=[i for i in range(1,e+1) if e%i==0]\n",
    "print('The factors of',e,'are',r)  \n",
    "if e%2==0:\n",
    "    print(e,'is an even number')\n",
    "else:\n",
    "    print(e,'is an odd number')"
   ]
  },
  {
   "cell_type": "markdown",
   "id": "0f18ddb5",
   "metadata": {},
   "source": [
    "<b> 5) Accept a number k from the user and print <br>\n",
    "a) Whether k is positive or negative number.<br>\n",
    "b) If k is positive then print all the squares of the number starting from 1 upto k<br>\n",
    "c) If k is negative then print the avgerage of all numbers from k upto -1</b>"
   ]
  },
  {
   "cell_type": "code",
   "execution_count": 9,
   "id": "cc4b07af",
   "metadata": {},
   "outputs": [],
   "source": [
    "from numpy import mean"
   ]
  },
  {
   "cell_type": "code",
   "execution_count": 30,
   "id": "a1890cbf",
   "metadata": {},
   "outputs": [
    {
     "name": "stdout",
     "output_type": "stream",
     "text": [
      "Enter a number: -5\n",
      "-5 is a negative number\n"
     ]
    }
   ],
   "source": [
    "k=int(input('Enter a number: '))\n",
    "if k<0:\n",
    "    print(k,'is a negative number')\n",
    "else:\n",
    "    print(k,'is a positive number')"
   ]
  },
  {
   "cell_type": "code",
   "execution_count": 14,
   "id": "689edce0",
   "metadata": {},
   "outputs": [
    {
     "name": "stdout",
     "output_type": "stream",
     "text": [
      "Enter a number: -5\n",
      "-5 is a negative number\n",
      "[-5, -4, -3, -2, -1]\n",
      "The average of all numbers from -5  upto -1 is -3.0\n"
     ]
    }
   ],
   "source": [
    "k=int(input('Enter a number: '))\n",
    "if k<0:\n",
    "    print(k,'is a negative number')\n",
    "    r=[d for d in range(k,0) if d%1==0]\n",
    "    print(r) \n",
    "    print('The average of all numbers from', k,' upto -1 is',mean(r))\n",
    "else:\n",
    "    print(k,'is a positive number')\n",
    "    r=[i**2 for i in range(1,k+1)]\n",
    "    print(r)"
   ]
  },
  {
   "cell_type": "code",
   "execution_count": 6,
   "id": "1d0d29d1",
   "metadata": {},
   "outputs": [
    {
     "name": "stdout",
     "output_type": "stream",
     "text": [
      "Enter a number: -5\n",
      "-5 is a negative number\n",
      "The average of all numbers from -5  upto -1 is -3.0\n"
     ]
    }
   ],
   "source": [
    "k=int(input('Enter a number: '))\n",
    "if k<0:\n",
    "    print(k,'is a negative number')\n",
    "    s=0\n",
    "    c=0\n",
    "    for i in range(k,0,1):\n",
    "        s+=i #used for sum\n",
    "        c+=1 #used for count\n",
    "        avg=s/c\n",
    "    print('The average of all numbers from',k,' upto -1 is',avg)\n",
    "else:\n",
    "    print(k,'is a positive number')\n",
    "    r=[i**2 for i in range(1,k+1)]\n",
    "    print(r)"
   ]
  },
  {
   "cell_type": "code",
   "execution_count": 7,
   "id": "48b21f5b",
   "metadata": {},
   "outputs": [
    {
     "name": "stdout",
     "output_type": "stream",
     "text": [
      "Enter a number: -5\n",
      "-5 is a negative number\n",
      "The average of all numbers from -5  upto -1 is -3.0\n"
     ]
    }
   ],
   "source": [
    "k=int(input('Enter a number: '))\n",
    "if k<0:\n",
    "    print(k,'is a negative number')\n",
    "    i=k\n",
    "    s=0\n",
    "    while i<0:\n",
    "        s+=i #used for sum\n",
    "        i+=1 #used for count\n",
    "        avg=s/(-k)\n",
    "    print('The average of all numbers from',k,' upto -1 is',avg)\n",
    "else:\n",
    "    print(k,'is a positive number')\n",
    "    r=[i**2 for i in range(1,k+1)]\n",
    "    print(r)"
   ]
  },
  {
   "cell_type": "markdown",
   "id": "5ea8adec",
   "metadata": {},
   "source": [
    "<b> 6) Accept a number from the user. Compute its factorial using:<br>\n",
    "a) For loop<br>\n",
    "b) While loop </b>"
   ]
  },
  {
   "cell_type": "code",
   "execution_count": 2,
   "id": "d98e0a5d",
   "metadata": {},
   "outputs": [
    {
     "name": "stdout",
     "output_type": "stream",
     "text": [
      "Enter a number: 7\n",
      "The factorial of the number is 5040\n"
     ]
    }
   ],
   "source": [
    "a = int(input(\"Enter a number: \")) \n",
    "f = 1 \n",
    "for i in range(1,a+1): \n",
    "     f = f * i \n",
    "print(f'The factorial of the number is {f}') "
   ]
  },
  {
   "cell_type": "code",
   "execution_count": 2,
   "id": "abc8ca3d",
   "metadata": {},
   "outputs": [
    {
     "name": "stdout",
     "output_type": "stream",
     "text": [
      "Enter a number: 7\n",
      "The factorial of the number is 5040\n"
     ]
    }
   ],
   "source": [
    "n = int(input(\"Enter a number: \")) \n",
    "f = 1 \n",
    "i=1\n",
    "while i<n+1: \n",
    "        f = f * i\n",
    "        i+=1\n",
    "print(f'The factorial of the number is {f}') "
   ]
  },
  {
   "cell_type": "markdown",
   "id": "d171f835",
   "metadata": {},
   "source": [
    "<b>7) Accept a sentence as user input. Count and print the number of uppercase alphabets, lowercase alphabets, digits, space charaters and special characters.</b>"
   ]
  },
  {
   "cell_type": "code",
   "execution_count": 3,
   "id": "86120acc",
   "metadata": {},
   "outputs": [
    {
     "name": "stdout",
     "output_type": "stream",
     "text": [
      "Enter a sentence: WELcome to &*6785\n",
      "upper chr 3 lower chr 6 space 2 digit 4 special chr 2\n"
     ]
    }
   ],
   "source": [
    "s=input('Enter a sentence: ')\n",
    "uc,lc,sp,spc1,dig=0,0,0,0,0\n",
    "for i in s:\n",
    "    if i.isupper():\n",
    "        uc+=1\n",
    "    elif i.islower():\n",
    "        lc +=1\n",
    "    elif i.isdigit():\n",
    "        dig+=1\n",
    "    elif i.isspace():\n",
    "        sp+=1\n",
    "    else:\n",
    "        spc1 +=1\n",
    "print('upper chr',uc,'lower chr',lc,'space',sp,'digit',dig,'special chr', spc1)"
   ]
  },
  {
   "cell_type": "markdown",
   "id": "dc5959d5",
   "metadata": {},
   "source": [
    "<b> 8) Write a program to count the total number of digits in a number accepted as user input.</b>"
   ]
  },
  {
   "cell_type": "code",
   "execution_count": 5,
   "id": "399f5662",
   "metadata": {},
   "outputs": [
    {
     "name": "stdout",
     "output_type": "stream",
     "text": [
      "Enter a number:12345\n",
      "The count of the total number of digits in a number is 5\n"
     ]
    }
   ],
   "source": [
    "s=input('Enter a number:')\n",
    "print('The count of the total number of digits in a number is',len(s))"
   ]
  },
  {
   "cell_type": "code",
   "execution_count": 8,
   "id": "65f65d70",
   "metadata": {},
   "outputs": [
    {
     "name": "stdout",
     "output_type": "stream",
     "text": [
      "Enter a number:7879\n",
      "The count of the total number of digits in a number is 4\n"
     ]
    }
   ],
   "source": [
    "s=int(input('Enter a number:'))\n",
    "print('The count of the total number of digits in a number is',len(str(s)))"
   ]
  },
  {
   "cell_type": "code",
   "execution_count": 6,
   "id": "2a867d5a",
   "metadata": {},
   "outputs": [
    {
     "name": "stdout",
     "output_type": "stream",
     "text": [
      "Enter a number:78909\n",
      "The count of the total number of digits in a number is 5\n"
     ]
    }
   ],
   "source": [
    "s=input('Enter a number:')\n",
    "c=0\n",
    "for i in s:\n",
    "    if i.isdigit():\n",
    "        c+=1\n",
    "print('The count of the total number of digits in a number is',c)"
   ]
  },
  {
   "cell_type": "code",
   "execution_count": 9,
   "id": "4bb71928",
   "metadata": {},
   "outputs": [
    {
     "name": "stdout",
     "output_type": "stream",
     "text": [
      "Enter a number: 898762\n",
      "The count of the total number of digits in a number is 6\n"
     ]
    }
   ],
   "source": [
    "# use this method\n",
    "n= int(input('Enter a number: '))\n",
    "c=0\n",
    "temp=n #name can be any not temp necessarily\n",
    "while temp>0:\n",
    "    c+=1\n",
    "    temp//=10\n",
    "print('The count of the total number of digits in a number is',c)"
   ]
  },
  {
   "cell_type": "markdown",
   "id": "a7ca0bce",
   "metadata": {},
   "source": [
    "<b>9) Accept full name as user input. Display the initials of the name.</b>"
   ]
  },
  {
   "cell_type": "code",
   "execution_count": 13,
   "id": "33e7f337",
   "metadata": {
    "scrolled": true
   },
   "outputs": [
    {
     "name": "stdout",
     "output_type": "stream",
     "text": [
      "Enter a name: elon musk\n",
      "['elon', 'musk']\n",
      "E.M\n"
     ]
    }
   ],
   "source": [
    "name=input('Enter a name: ')\n",
    "r=name.split(' ')\n",
    "print (r)\n",
    "print(r[0][0].upper()+'.'+r[1][0].upper())"
   ]
  },
  {
   "cell_type": "markdown",
   "id": "a1bea405",
   "metadata": {},
   "source": [
    "<b> 10) Accept an input from the user in the range 1-26. Generate the corresponding <br>\n",
    "a) upper case alphabets for all the multiple of 3 less than equal to that number</b>"
   ]
  },
  {
   "cell_type": "code",
   "execution_count": 3,
   "id": "4a651409",
   "metadata": {},
   "outputs": [
    {
     "name": "stdout",
     "output_type": "stream",
     "text": [
      "Enter a number between 1 to 26: 12\n",
      "C F I L "
     ]
    }
   ],
   "source": [
    "n=int(input('Enter a number between 1 to 26: '))\n",
    "for i in range(1,n+1):\n",
    "    if i%3==0:\n",
    "        print(chr(64+i),end=' ')"
   ]
  },
  {
   "cell_type": "code",
   "execution_count": 4,
   "id": "1f37287c",
   "metadata": {},
   "outputs": [
    {
     "name": "stdout",
     "output_type": "stream",
     "text": [
      "Enter a number between 1 to 26: 12\n",
      "c f i l "
     ]
    }
   ],
   "source": [
    "n=int(input('Enter a number between 1 to 26: '))\n",
    "for i in range(1,n+1):\n",
    "    if i%3==0:\n",
    "        print(chr(96+i),end=' ')"
   ]
  }
 ],
 "metadata": {
  "kernelspec": {
   "display_name": "Python 3 (ipykernel)",
   "language": "python",
   "name": "python3"
  },
  "language_info": {
   "codemirror_mode": {
    "name": "ipython",
    "version": 3
   },
   "file_extension": ".py",
   "mimetype": "text/x-python",
   "name": "python",
   "nbconvert_exporter": "python",
   "pygments_lexer": "ipython3",
   "version": "3.9.7"
  }
 },
 "nbformat": 4,
 "nbformat_minor": 5
}
