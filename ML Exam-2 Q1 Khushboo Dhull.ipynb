{
 "cells": [
  {
   "cell_type": "markdown",
   "id": "29cf9ff0",
   "metadata": {},
   "source": [
    "## Machine Learning using Python Exam – Paper 2\n",
    "#### - Khushboo Dhull"
   ]
  },
  {
   "cell_type": "markdown",
   "id": "baae2191",
   "metadata": {},
   "source": [
    "### Part I: Unsupervised Learning"
   ]
  },
  {
   "cell_type": "markdown",
   "id": "832af27c",
   "metadata": {},
   "source": [
    "<b>Given the ‘credit_card’ dataset, below is the data definition:\n",
    "1) CUSTID: Identification of Credit Card holder (Categorical)\n",
    "\n",
    "2) BALANCE: Balance amount left in their account to make purchases\n",
    "\n",
    "3) BALANCEFREQUENCY: How frequently the Balance is updated, score between 0 and 1 (1 = frequently updated, 0 = not frequently updated)\n",
    "\n",
    "4) PURCHASES: Amount of purchases made from account\n",
    "\n",
    "5) ONEOFFPURCHASES: Maximum purchase amount done in one-go\n",
    "\n",
    "6) INSTALLMENTSPURCHASES: Amount of purchase done in installment\n",
    "\n",
    "7) CASHADVANCE: Cash in advance given by the user\n",
    "\n",
    "8) PURCHASESFREQUENCY: How frequently the Purchases are being made, score between 0 and 1 (1 = frequently purchased, 0 = not frequently purchased)\n",
    "\n",
    "9) ONEOFFPURCHASESFREQUENCY: How frequently Purchases are happening in one- go (1 = frequently purchased, 0 = not frequently purchased)\n",
    "\n",
    "10) PURCHASESINSTALLMENTSFREQUENCY: How frequently purchases in installments are being done (1 = frequently done, 0 = not frequently done)\n",
    "\n",
    "11) CASHADVANCEFREQUENCY: How frequently the cash in advance being paid\n",
    "\n",
    "12) CASHADVANCETRX: Number of Transactions made with \"Cash in Advanced\"\n",
    "\n",
    "13) PURCHASESTRX: Number of purchase transactions made\n",
    "\n",
    "14) CREDITLIMIT: Limit of Credit Card for user\n",
    "\n",
    "15) PAYMENTS: Amount of Payment done by user\n",
    "\n",
    "16) MINIMUM_PAYMENTS: Minimum amount of payments made by user \n",
    "\n",
    "17) PRCFULLPAYMENT: Percent of full payment paid by user\n",
    "\n",
    "18) TENURE: Tenure of credit card service for user\n"
   ]
  },
  {
   "cell_type": "markdown",
   "id": "485a4678",
   "metadata": {},
   "source": [
    "### Importing Libraries"
   ]
  },
  {
   "cell_type": "code",
   "execution_count": 1,
   "id": "87d3cd2d",
   "metadata": {},
   "outputs": [],
   "source": [
    "import pandas as pd\n",
    "import numpy as np\n",
    "import matplotlib.pyplot as plt\n",
    "import seaborn as sns\n",
    "from warnings import filterwarnings\n",
    "filterwarnings('ignore')"
   ]
  },
  {
   "cell_type": "markdown",
   "id": "3c526e7f",
   "metadata": {},
   "source": [
    "### Read the dataset"
   ]
  },
  {
   "cell_type": "code",
   "execution_count": 2,
   "id": "1ebed32f",
   "metadata": {},
   "outputs": [
    {
     "data": {
      "text/html": [
       "<div>\n",
       "<style scoped>\n",
       "    .dataframe tbody tr th:only-of-type {\n",
       "        vertical-align: middle;\n",
       "    }\n",
       "\n",
       "    .dataframe tbody tr th {\n",
       "        vertical-align: top;\n",
       "    }\n",
       "\n",
       "    .dataframe thead th {\n",
       "        text-align: right;\n",
       "    }\n",
       "</style>\n",
       "<table border=\"1\" class=\"dataframe\">\n",
       "  <thead>\n",
       "    <tr style=\"text-align: right;\">\n",
       "      <th></th>\n",
       "      <th>CUST_ID</th>\n",
       "      <th>BALANCE</th>\n",
       "      <th>BALANCE_FREQUENCY</th>\n",
       "      <th>PURCHASES</th>\n",
       "      <th>ONEOFF_PURCHASES</th>\n",
       "      <th>INSTALLMENTS_PURCHASES</th>\n",
       "      <th>CASH_ADVANCE</th>\n",
       "      <th>PURCHASES_FREQUENCY</th>\n",
       "      <th>ONEOFF_PURCHASES_FREQUENCY</th>\n",
       "      <th>PURCHASES_INSTALLMENTS_FREQUENCY</th>\n",
       "      <th>CASH_ADVANCE_FREQUENCY</th>\n",
       "      <th>CASH_ADVANCE_TRX</th>\n",
       "      <th>PURCHASES_TRX</th>\n",
       "      <th>CREDIT_LIMIT</th>\n",
       "      <th>PAYMENTS</th>\n",
       "      <th>MINIMUM_PAYMENTS</th>\n",
       "      <th>PRC_FULL_PAYMENT</th>\n",
       "      <th>TENURE</th>\n",
       "    </tr>\n",
       "  </thead>\n",
       "  <tbody>\n",
       "    <tr>\n",
       "      <th>0</th>\n",
       "      <td>C10001</td>\n",
       "      <td>40.900749</td>\n",
       "      <td>0.818182</td>\n",
       "      <td>95.40</td>\n",
       "      <td>0.00</td>\n",
       "      <td>95.4</td>\n",
       "      <td>0.000000</td>\n",
       "      <td>0.166667</td>\n",
       "      <td>0.000000</td>\n",
       "      <td>0.083333</td>\n",
       "      <td>0.000000</td>\n",
       "      <td>0</td>\n",
       "      <td>2</td>\n",
       "      <td>1000.0</td>\n",
       "      <td>201.802084</td>\n",
       "      <td>139.509787</td>\n",
       "      <td>0.000000</td>\n",
       "      <td>12</td>\n",
       "    </tr>\n",
       "    <tr>\n",
       "      <th>1</th>\n",
       "      <td>C10002</td>\n",
       "      <td>3202.467416</td>\n",
       "      <td>0.909091</td>\n",
       "      <td>0.00</td>\n",
       "      <td>0.00</td>\n",
       "      <td>0.0</td>\n",
       "      <td>6442.945483</td>\n",
       "      <td>0.000000</td>\n",
       "      <td>0.000000</td>\n",
       "      <td>0.000000</td>\n",
       "      <td>0.250000</td>\n",
       "      <td>4</td>\n",
       "      <td>0</td>\n",
       "      <td>7000.0</td>\n",
       "      <td>4103.032597</td>\n",
       "      <td>1072.340217</td>\n",
       "      <td>0.222222</td>\n",
       "      <td>12</td>\n",
       "    </tr>\n",
       "    <tr>\n",
       "      <th>2</th>\n",
       "      <td>C10003</td>\n",
       "      <td>2495.148862</td>\n",
       "      <td>1.000000</td>\n",
       "      <td>773.17</td>\n",
       "      <td>773.17</td>\n",
       "      <td>0.0</td>\n",
       "      <td>0.000000</td>\n",
       "      <td>1.000000</td>\n",
       "      <td>1.000000</td>\n",
       "      <td>0.000000</td>\n",
       "      <td>0.000000</td>\n",
       "      <td>0</td>\n",
       "      <td>12</td>\n",
       "      <td>7500.0</td>\n",
       "      <td>622.066742</td>\n",
       "      <td>627.284787</td>\n",
       "      <td>0.000000</td>\n",
       "      <td>12</td>\n",
       "    </tr>\n",
       "    <tr>\n",
       "      <th>3</th>\n",
       "      <td>C10004</td>\n",
       "      <td>1666.670542</td>\n",
       "      <td>0.636364</td>\n",
       "      <td>1499.00</td>\n",
       "      <td>1499.00</td>\n",
       "      <td>0.0</td>\n",
       "      <td>205.788017</td>\n",
       "      <td>0.083333</td>\n",
       "      <td>0.083333</td>\n",
       "      <td>0.000000</td>\n",
       "      <td>0.083333</td>\n",
       "      <td>1</td>\n",
       "      <td>1</td>\n",
       "      <td>7500.0</td>\n",
       "      <td>0.000000</td>\n",
       "      <td>NaN</td>\n",
       "      <td>0.000000</td>\n",
       "      <td>12</td>\n",
       "    </tr>\n",
       "    <tr>\n",
       "      <th>4</th>\n",
       "      <td>C10005</td>\n",
       "      <td>817.714335</td>\n",
       "      <td>1.000000</td>\n",
       "      <td>16.00</td>\n",
       "      <td>16.00</td>\n",
       "      <td>0.0</td>\n",
       "      <td>0.000000</td>\n",
       "      <td>0.083333</td>\n",
       "      <td>0.083333</td>\n",
       "      <td>0.000000</td>\n",
       "      <td>0.000000</td>\n",
       "      <td>0</td>\n",
       "      <td>1</td>\n",
       "      <td>1200.0</td>\n",
       "      <td>678.334763</td>\n",
       "      <td>244.791237</td>\n",
       "      <td>0.000000</td>\n",
       "      <td>12</td>\n",
       "    </tr>\n",
       "  </tbody>\n",
       "</table>\n",
       "</div>"
      ],
      "text/plain": [
       "  CUST_ID      BALANCE  BALANCE_FREQUENCY  PURCHASES  ONEOFF_PURCHASES  \\\n",
       "0  C10001    40.900749           0.818182      95.40              0.00   \n",
       "1  C10002  3202.467416           0.909091       0.00              0.00   \n",
       "2  C10003  2495.148862           1.000000     773.17            773.17   \n",
       "3  C10004  1666.670542           0.636364    1499.00           1499.00   \n",
       "4  C10005   817.714335           1.000000      16.00             16.00   \n",
       "\n",
       "   INSTALLMENTS_PURCHASES  CASH_ADVANCE  PURCHASES_FREQUENCY  \\\n",
       "0                    95.4      0.000000             0.166667   \n",
       "1                     0.0   6442.945483             0.000000   \n",
       "2                     0.0      0.000000             1.000000   \n",
       "3                     0.0    205.788017             0.083333   \n",
       "4                     0.0      0.000000             0.083333   \n",
       "\n",
       "   ONEOFF_PURCHASES_FREQUENCY  PURCHASES_INSTALLMENTS_FREQUENCY  \\\n",
       "0                    0.000000                          0.083333   \n",
       "1                    0.000000                          0.000000   \n",
       "2                    1.000000                          0.000000   \n",
       "3                    0.083333                          0.000000   \n",
       "4                    0.083333                          0.000000   \n",
       "\n",
       "   CASH_ADVANCE_FREQUENCY  CASH_ADVANCE_TRX  PURCHASES_TRX  CREDIT_LIMIT  \\\n",
       "0                0.000000                 0              2        1000.0   \n",
       "1                0.250000                 4              0        7000.0   \n",
       "2                0.000000                 0             12        7500.0   \n",
       "3                0.083333                 1              1        7500.0   \n",
       "4                0.000000                 0              1        1200.0   \n",
       "\n",
       "      PAYMENTS  MINIMUM_PAYMENTS  PRC_FULL_PAYMENT  TENURE  \n",
       "0   201.802084        139.509787          0.000000      12  \n",
       "1  4103.032597       1072.340217          0.222222      12  \n",
       "2   622.066742        627.284787          0.000000      12  \n",
       "3     0.000000               NaN          0.000000      12  \n",
       "4   678.334763        244.791237          0.000000      12  "
      ]
     },
     "execution_count": 2,
     "metadata": {},
     "output_type": "execute_result"
    }
   ],
   "source": [
    "df=pd.read_csv('credit_card.csv')\n",
    "df.head()"
   ]
  },
  {
   "cell_type": "markdown",
   "id": "5e396f38",
   "metadata": {},
   "source": [
    "### Data Analysis and Preparation\n",
    "\t\n",
    "Data preparation is the process of cleaning and transforming raw data before building predictive models.\n",
    "\n",
    "Here, we analyze and perform the following tasks:\n",
    "1. Check data types. Ensure your data types are correct.\n",
    "2. We need to change the data types as per requirement If they are not as per business definition\n",
    "3. Go through the summary statistics\n",
    "4. Distribution of variables\n",
    "5. Study the correlation\n",
    "6. Detect outliers from the data\n",
    "7. Look for the missing values"
   ]
  },
  {
   "cell_type": "markdown",
   "id": "7c443f6b",
   "metadata": {},
   "source": [
    "### Understanding the data"
   ]
  },
  {
   "cell_type": "code",
   "execution_count": 3,
   "id": "3294e274",
   "metadata": {},
   "outputs": [
    {
     "data": {
      "text/plain": [
       "(8950, 18)"
      ]
     },
     "execution_count": 3,
     "metadata": {},
     "output_type": "execute_result"
    }
   ],
   "source": [
    "df1=df.copy()\n",
    "df1.shape"
   ]
  },
  {
   "cell_type": "code",
   "execution_count": 4,
   "id": "b6980f01",
   "metadata": {},
   "outputs": [
    {
     "name": "stdout",
     "output_type": "stream",
     "text": [
      "<class 'pandas.core.frame.DataFrame'>\n",
      "RangeIndex: 8950 entries, 0 to 8949\n",
      "Data columns (total 18 columns):\n",
      " #   Column                            Non-Null Count  Dtype  \n",
      "---  ------                            --------------  -----  \n",
      " 0   CUST_ID                           8950 non-null   object \n",
      " 1   BALANCE                           8950 non-null   float64\n",
      " 2   BALANCE_FREQUENCY                 8950 non-null   float64\n",
      " 3   PURCHASES                         8950 non-null   float64\n",
      " 4   ONEOFF_PURCHASES                  8950 non-null   float64\n",
      " 5   INSTALLMENTS_PURCHASES            8950 non-null   float64\n",
      " 6   CASH_ADVANCE                      8950 non-null   float64\n",
      " 7   PURCHASES_FREQUENCY               8950 non-null   float64\n",
      " 8   ONEOFF_PURCHASES_FREQUENCY        8950 non-null   float64\n",
      " 9   PURCHASES_INSTALLMENTS_FREQUENCY  8950 non-null   float64\n",
      " 10  CASH_ADVANCE_FREQUENCY            8950 non-null   float64\n",
      " 11  CASH_ADVANCE_TRX                  8950 non-null   int64  \n",
      " 12  PURCHASES_TRX                     8950 non-null   int64  \n",
      " 13  CREDIT_LIMIT                      8949 non-null   float64\n",
      " 14  PAYMENTS                          8950 non-null   float64\n",
      " 15  MINIMUM_PAYMENTS                  8637 non-null   float64\n",
      " 16  PRC_FULL_PAYMENT                  8950 non-null   float64\n",
      " 17  TENURE                            8950 non-null   int64  \n",
      "dtypes: float64(14), int64(3), object(1)\n",
      "memory usage: 1.2+ MB\n"
     ]
    }
   ],
   "source": [
    "df1.info()"
   ]
  },
  {
   "cell_type": "code",
   "execution_count": 5,
   "id": "6711a477",
   "metadata": {},
   "outputs": [
    {
     "data": {
      "text/plain": [
       "float64    14\n",
       "int64       3\n",
       "object      1\n",
       "dtype: int64"
      ]
     },
     "execution_count": 5,
     "metadata": {},
     "output_type": "execute_result"
    }
   ],
   "source": [
    "df1.dtypes.value_counts()"
   ]
  },
  {
   "cell_type": "markdown",
   "id": "f50da7ff",
   "metadata": {},
   "source": [
    "<b> 1. For getting the statistical summary of numerical variables we use the describe()"
   ]
  },
  {
   "cell_type": "code",
   "execution_count": 6,
   "id": "9afd2bb4",
   "metadata": {},
   "outputs": [
    {
     "data": {
      "text/html": [
       "<div>\n",
       "<style scoped>\n",
       "    .dataframe tbody tr th:only-of-type {\n",
       "        vertical-align: middle;\n",
       "    }\n",
       "\n",
       "    .dataframe tbody tr th {\n",
       "        vertical-align: top;\n",
       "    }\n",
       "\n",
       "    .dataframe thead th {\n",
       "        text-align: right;\n",
       "    }\n",
       "</style>\n",
       "<table border=\"1\" class=\"dataframe\">\n",
       "  <thead>\n",
       "    <tr style=\"text-align: right;\">\n",
       "      <th></th>\n",
       "      <th>BALANCE</th>\n",
       "      <th>BALANCE_FREQUENCY</th>\n",
       "      <th>PURCHASES</th>\n",
       "      <th>ONEOFF_PURCHASES</th>\n",
       "      <th>INSTALLMENTS_PURCHASES</th>\n",
       "      <th>CASH_ADVANCE</th>\n",
       "      <th>PURCHASES_FREQUENCY</th>\n",
       "      <th>ONEOFF_PURCHASES_FREQUENCY</th>\n",
       "      <th>PURCHASES_INSTALLMENTS_FREQUENCY</th>\n",
       "      <th>CASH_ADVANCE_FREQUENCY</th>\n",
       "      <th>CASH_ADVANCE_TRX</th>\n",
       "      <th>PURCHASES_TRX</th>\n",
       "      <th>CREDIT_LIMIT</th>\n",
       "      <th>PAYMENTS</th>\n",
       "      <th>MINIMUM_PAYMENTS</th>\n",
       "      <th>PRC_FULL_PAYMENT</th>\n",
       "      <th>TENURE</th>\n",
       "    </tr>\n",
       "  </thead>\n",
       "  <tbody>\n",
       "    <tr>\n",
       "      <th>count</th>\n",
       "      <td>8950.000000</td>\n",
       "      <td>8950.000000</td>\n",
       "      <td>8950.000000</td>\n",
       "      <td>8950.000000</td>\n",
       "      <td>8950.000000</td>\n",
       "      <td>8950.000000</td>\n",
       "      <td>8950.000000</td>\n",
       "      <td>8950.000000</td>\n",
       "      <td>8950.000000</td>\n",
       "      <td>8950.000000</td>\n",
       "      <td>8950.000000</td>\n",
       "      <td>8950.000000</td>\n",
       "      <td>8949.000000</td>\n",
       "      <td>8950.000000</td>\n",
       "      <td>8637.000000</td>\n",
       "      <td>8950.000000</td>\n",
       "      <td>8950.000000</td>\n",
       "    </tr>\n",
       "    <tr>\n",
       "      <th>mean</th>\n",
       "      <td>1564.474828</td>\n",
       "      <td>0.877271</td>\n",
       "      <td>1003.204834</td>\n",
       "      <td>592.437371</td>\n",
       "      <td>411.067645</td>\n",
       "      <td>978.871112</td>\n",
       "      <td>0.490351</td>\n",
       "      <td>0.202458</td>\n",
       "      <td>0.364437</td>\n",
       "      <td>0.135144</td>\n",
       "      <td>3.248827</td>\n",
       "      <td>14.709832</td>\n",
       "      <td>4494.449450</td>\n",
       "      <td>1733.143852</td>\n",
       "      <td>864.206542</td>\n",
       "      <td>0.153715</td>\n",
       "      <td>11.517318</td>\n",
       "    </tr>\n",
       "    <tr>\n",
       "      <th>std</th>\n",
       "      <td>2081.531879</td>\n",
       "      <td>0.236904</td>\n",
       "      <td>2136.634782</td>\n",
       "      <td>1659.887917</td>\n",
       "      <td>904.338115</td>\n",
       "      <td>2097.163877</td>\n",
       "      <td>0.401371</td>\n",
       "      <td>0.298336</td>\n",
       "      <td>0.397448</td>\n",
       "      <td>0.200121</td>\n",
       "      <td>6.824647</td>\n",
       "      <td>24.857649</td>\n",
       "      <td>3638.815725</td>\n",
       "      <td>2895.063757</td>\n",
       "      <td>2372.446607</td>\n",
       "      <td>0.292499</td>\n",
       "      <td>1.338331</td>\n",
       "    </tr>\n",
       "    <tr>\n",
       "      <th>min</th>\n",
       "      <td>0.000000</td>\n",
       "      <td>0.000000</td>\n",
       "      <td>0.000000</td>\n",
       "      <td>0.000000</td>\n",
       "      <td>0.000000</td>\n",
       "      <td>0.000000</td>\n",
       "      <td>0.000000</td>\n",
       "      <td>0.000000</td>\n",
       "      <td>0.000000</td>\n",
       "      <td>0.000000</td>\n",
       "      <td>0.000000</td>\n",
       "      <td>0.000000</td>\n",
       "      <td>50.000000</td>\n",
       "      <td>0.000000</td>\n",
       "      <td>0.019163</td>\n",
       "      <td>0.000000</td>\n",
       "      <td>6.000000</td>\n",
       "    </tr>\n",
       "    <tr>\n",
       "      <th>25%</th>\n",
       "      <td>128.281915</td>\n",
       "      <td>0.888889</td>\n",
       "      <td>39.635000</td>\n",
       "      <td>0.000000</td>\n",
       "      <td>0.000000</td>\n",
       "      <td>0.000000</td>\n",
       "      <td>0.083333</td>\n",
       "      <td>0.000000</td>\n",
       "      <td>0.000000</td>\n",
       "      <td>0.000000</td>\n",
       "      <td>0.000000</td>\n",
       "      <td>1.000000</td>\n",
       "      <td>1600.000000</td>\n",
       "      <td>383.276166</td>\n",
       "      <td>169.123707</td>\n",
       "      <td>0.000000</td>\n",
       "      <td>12.000000</td>\n",
       "    </tr>\n",
       "    <tr>\n",
       "      <th>50%</th>\n",
       "      <td>873.385231</td>\n",
       "      <td>1.000000</td>\n",
       "      <td>361.280000</td>\n",
       "      <td>38.000000</td>\n",
       "      <td>89.000000</td>\n",
       "      <td>0.000000</td>\n",
       "      <td>0.500000</td>\n",
       "      <td>0.083333</td>\n",
       "      <td>0.166667</td>\n",
       "      <td>0.000000</td>\n",
       "      <td>0.000000</td>\n",
       "      <td>7.000000</td>\n",
       "      <td>3000.000000</td>\n",
       "      <td>856.901546</td>\n",
       "      <td>312.343947</td>\n",
       "      <td>0.000000</td>\n",
       "      <td>12.000000</td>\n",
       "    </tr>\n",
       "    <tr>\n",
       "      <th>75%</th>\n",
       "      <td>2054.140036</td>\n",
       "      <td>1.000000</td>\n",
       "      <td>1110.130000</td>\n",
       "      <td>577.405000</td>\n",
       "      <td>468.637500</td>\n",
       "      <td>1113.821139</td>\n",
       "      <td>0.916667</td>\n",
       "      <td>0.300000</td>\n",
       "      <td>0.750000</td>\n",
       "      <td>0.222222</td>\n",
       "      <td>4.000000</td>\n",
       "      <td>17.000000</td>\n",
       "      <td>6500.000000</td>\n",
       "      <td>1901.134317</td>\n",
       "      <td>825.485459</td>\n",
       "      <td>0.142857</td>\n",
       "      <td>12.000000</td>\n",
       "    </tr>\n",
       "    <tr>\n",
       "      <th>max</th>\n",
       "      <td>19043.138560</td>\n",
       "      <td>1.000000</td>\n",
       "      <td>49039.570000</td>\n",
       "      <td>40761.250000</td>\n",
       "      <td>22500.000000</td>\n",
       "      <td>47137.211760</td>\n",
       "      <td>1.000000</td>\n",
       "      <td>1.000000</td>\n",
       "      <td>1.000000</td>\n",
       "      <td>1.500000</td>\n",
       "      <td>123.000000</td>\n",
       "      <td>358.000000</td>\n",
       "      <td>30000.000000</td>\n",
       "      <td>50721.483360</td>\n",
       "      <td>76406.207520</td>\n",
       "      <td>1.000000</td>\n",
       "      <td>12.000000</td>\n",
       "    </tr>\n",
       "  </tbody>\n",
       "</table>\n",
       "</div>"
      ],
      "text/plain": [
       "            BALANCE  BALANCE_FREQUENCY     PURCHASES  ONEOFF_PURCHASES  \\\n",
       "count   8950.000000        8950.000000   8950.000000       8950.000000   \n",
       "mean    1564.474828           0.877271   1003.204834        592.437371   \n",
       "std     2081.531879           0.236904   2136.634782       1659.887917   \n",
       "min        0.000000           0.000000      0.000000          0.000000   \n",
       "25%      128.281915           0.888889     39.635000          0.000000   \n",
       "50%      873.385231           1.000000    361.280000         38.000000   \n",
       "75%     2054.140036           1.000000   1110.130000        577.405000   \n",
       "max    19043.138560           1.000000  49039.570000      40761.250000   \n",
       "\n",
       "       INSTALLMENTS_PURCHASES  CASH_ADVANCE  PURCHASES_FREQUENCY  \\\n",
       "count             8950.000000   8950.000000          8950.000000   \n",
       "mean               411.067645    978.871112             0.490351   \n",
       "std                904.338115   2097.163877             0.401371   \n",
       "min                  0.000000      0.000000             0.000000   \n",
       "25%                  0.000000      0.000000             0.083333   \n",
       "50%                 89.000000      0.000000             0.500000   \n",
       "75%                468.637500   1113.821139             0.916667   \n",
       "max              22500.000000  47137.211760             1.000000   \n",
       "\n",
       "       ONEOFF_PURCHASES_FREQUENCY  PURCHASES_INSTALLMENTS_FREQUENCY  \\\n",
       "count                 8950.000000                       8950.000000   \n",
       "mean                     0.202458                          0.364437   \n",
       "std                      0.298336                          0.397448   \n",
       "min                      0.000000                          0.000000   \n",
       "25%                      0.000000                          0.000000   \n",
       "50%                      0.083333                          0.166667   \n",
       "75%                      0.300000                          0.750000   \n",
       "max                      1.000000                          1.000000   \n",
       "\n",
       "       CASH_ADVANCE_FREQUENCY  CASH_ADVANCE_TRX  PURCHASES_TRX  CREDIT_LIMIT  \\\n",
       "count             8950.000000       8950.000000    8950.000000   8949.000000   \n",
       "mean                 0.135144          3.248827      14.709832   4494.449450   \n",
       "std                  0.200121          6.824647      24.857649   3638.815725   \n",
       "min                  0.000000          0.000000       0.000000     50.000000   \n",
       "25%                  0.000000          0.000000       1.000000   1600.000000   \n",
       "50%                  0.000000          0.000000       7.000000   3000.000000   \n",
       "75%                  0.222222          4.000000      17.000000   6500.000000   \n",
       "max                  1.500000        123.000000     358.000000  30000.000000   \n",
       "\n",
       "           PAYMENTS  MINIMUM_PAYMENTS  PRC_FULL_PAYMENT       TENURE  \n",
       "count   8950.000000       8637.000000       8950.000000  8950.000000  \n",
       "mean    1733.143852        864.206542          0.153715    11.517318  \n",
       "std     2895.063757       2372.446607          0.292499     1.338331  \n",
       "min        0.000000          0.019163          0.000000     6.000000  \n",
       "25%      383.276166        169.123707          0.000000    12.000000  \n",
       "50%      856.901546        312.343947          0.000000    12.000000  \n",
       "75%     1901.134317        825.485459          0.142857    12.000000  \n",
       "max    50721.483360      76406.207520          1.000000    12.000000  "
      ]
     },
     "execution_count": 6,
     "metadata": {},
     "output_type": "execute_result"
    }
   ],
   "source": [
    "df1.describe()"
   ]
  },
  {
   "cell_type": "markdown",
   "id": "f25f468e",
   "metadata": {},
   "source": [
    "- The above output displays the summary statistics of all the numeric variables like mean, median, standard deviation, minimum, and the maximum values, the first and third quantiles.\n",
    "\n",
    "- We can see that the balance ranges from 0 to 19043.138560, with mean 1564.474828\n",
    "\n",
    "- Also, the count of Credit_limit, Minimum_payments is less than total which indicates presence of null values."
   ]
  },
  {
   "cell_type": "markdown",
   "id": "92d67520",
   "metadata": {},
   "source": [
    "<b> 2. For getting the statistical summary of categorical features we use the describe(include = object)"
   ]
  },
  {
   "cell_type": "code",
   "execution_count": 7,
   "id": "560b6f14",
   "metadata": {},
   "outputs": [
    {
     "data": {
      "text/html": [
       "<div>\n",
       "<style scoped>\n",
       "    .dataframe tbody tr th:only-of-type {\n",
       "        vertical-align: middle;\n",
       "    }\n",
       "\n",
       "    .dataframe tbody tr th {\n",
       "        vertical-align: top;\n",
       "    }\n",
       "\n",
       "    .dataframe thead th {\n",
       "        text-align: right;\n",
       "    }\n",
       "</style>\n",
       "<table border=\"1\" class=\"dataframe\">\n",
       "  <thead>\n",
       "    <tr style=\"text-align: right;\">\n",
       "      <th></th>\n",
       "      <th>CUST_ID</th>\n",
       "    </tr>\n",
       "  </thead>\n",
       "  <tbody>\n",
       "    <tr>\n",
       "      <th>count</th>\n",
       "      <td>8950</td>\n",
       "    </tr>\n",
       "    <tr>\n",
       "      <th>unique</th>\n",
       "      <td>8950</td>\n",
       "    </tr>\n",
       "    <tr>\n",
       "      <th>top</th>\n",
       "      <td>C10001</td>\n",
       "    </tr>\n",
       "    <tr>\n",
       "      <th>freq</th>\n",
       "      <td>1</td>\n",
       "    </tr>\n",
       "  </tbody>\n",
       "</table>\n",
       "</div>"
      ],
      "text/plain": [
       "       CUST_ID\n",
       "count     8950\n",
       "unique    8950\n",
       "top     C10001\n",
       "freq         1"
      ]
     },
     "execution_count": 7,
     "metadata": {},
     "output_type": "execute_result"
    }
   ],
   "source": [
    "df1.describe(include=object)"
   ]
  },
  {
   "cell_type": "markdown",
   "id": "5fdfe61e",
   "metadata": {},
   "source": [
    "- The summary statistics for categorical variables contains information about the total number of observations, number of unique classes, the most occurring class, and its frequency.\n",
    "- Looking at the above statistics we can see that each customer has its own unique cust_id. We can drop this column for further analysis"
   ]
  },
  {
   "cell_type": "markdown",
   "id": "0b799b77",
   "metadata": {},
   "source": [
    "### Checking For Null Values & Duplicates"
   ]
  },
  {
   "cell_type": "code",
   "execution_count": 8,
   "id": "5a0bc289",
   "metadata": {},
   "outputs": [
    {
     "data": {
      "text/plain": [
       "CUST_ID                               0\n",
       "BALANCE                               0\n",
       "BALANCE_FREQUENCY                     0\n",
       "PURCHASES                             0\n",
       "ONEOFF_PURCHASES                      0\n",
       "INSTALLMENTS_PURCHASES                0\n",
       "CASH_ADVANCE                          0\n",
       "PURCHASES_FREQUENCY                   0\n",
       "ONEOFF_PURCHASES_FREQUENCY            0\n",
       "PURCHASES_INSTALLMENTS_FREQUENCY      0\n",
       "CASH_ADVANCE_FREQUENCY                0\n",
       "CASH_ADVANCE_TRX                      0\n",
       "PURCHASES_TRX                         0\n",
       "CREDIT_LIMIT                          1\n",
       "PAYMENTS                              0\n",
       "MINIMUM_PAYMENTS                    313\n",
       "PRC_FULL_PAYMENT                      0\n",
       "TENURE                                0\n",
       "dtype: int64"
      ]
     },
     "execution_count": 8,
     "metadata": {},
     "output_type": "execute_result"
    }
   ],
   "source": [
    "df1.isnull().sum()"
   ]
  },
  {
   "cell_type": "code",
   "execution_count": 9,
   "id": "a4df72f2",
   "metadata": {},
   "outputs": [
    {
     "data": {
      "text/plain": [
       "CREDIT_LIMIT        0.011173\n",
       "MINIMUM_PAYMENTS    3.497207\n",
       "dtype: float64"
      ]
     },
     "execution_count": 9,
     "metadata": {},
     "output_type": "execute_result"
    }
   ],
   "source": [
    "percent_missing= df1.isnull().sum() * 100 / len(df)\n",
    "d3=percent_missing[(percent_missing.values>0)]\n",
    "d3"
   ]
  },
  {
   "cell_type": "code",
   "execution_count": 10,
   "id": "81ae91cf",
   "metadata": {},
   "outputs": [
    {
     "data": {
      "image/png": "[encoded data removed]",
      "text/plain": [
       "<Figure size 360x360 with 1 Axes>"
      ]
     },
     "metadata": {
      "needs_background": "light"
     },
     "output_type": "display_data"
    }
   ],
   "source": [
    "plt.figure(figsize=(5,5))\n",
    "plt.bar(d3.index,d3.values,label='Column count')\n",
    "plt.xlabel('Columns')\n",
    "plt.ylabel('Percent')\n",
    "plt.legend()\n",
    "plt.xticks(rotation=90)\n",
    "plt.title('Percentage of missing values in each column')\n",
    "plt.show()"
   ]
  },
  {
   "cell_type": "code",
   "execution_count": 11,
   "id": "0a12e930",
   "metadata": {},
   "outputs": [
    {
     "data": {
      "text/plain": [
       "0"
      ]
     },
     "execution_count": 11,
     "metadata": {},
     "output_type": "execute_result"
    }
   ],
   "source": [
    "df1.duplicated().sum()"
   ]
  },
  {
   "cell_type": "markdown",
   "id": "a138229b",
   "metadata": {},
   "source": [
    "### Handling Null values"
   ]
  },
  {
   "cell_type": "code",
   "execution_count": 12,
   "id": "64a06fe8",
   "metadata": {},
   "outputs": [],
   "source": [
    "df1['CREDIT_LIMIT'].fillna(df1['CREDIT_LIMIT'].mean(),inplace=True)\n",
    "df1['MINIMUM_PAYMENTS'].fillna(df1['MINIMUM_PAYMENTS'].mean(),inplace=True)"
   ]
  },
  {
   "cell_type": "code",
   "execution_count": 13,
   "id": "61b2aec3",
   "metadata": {},
   "outputs": [
    {
     "data": {
      "text/plain": [
       "CUST_ID                             0\n",
       "BALANCE                             0\n",
       "BALANCE_FREQUENCY                   0\n",
       "PURCHASES                           0\n",
       "ONEOFF_PURCHASES                    0\n",
       "INSTALLMENTS_PURCHASES              0\n",
       "CASH_ADVANCE                        0\n",
       "PURCHASES_FREQUENCY                 0\n",
       "ONEOFF_PURCHASES_FREQUENCY          0\n",
       "PURCHASES_INSTALLMENTS_FREQUENCY    0\n",
       "CASH_ADVANCE_FREQUENCY              0\n",
       "CASH_ADVANCE_TRX                    0\n",
       "PURCHASES_TRX                       0\n",
       "CREDIT_LIMIT                        0\n",
       "PAYMENTS                            0\n",
       "MINIMUM_PAYMENTS                    0\n",
       "PRC_FULL_PAYMENT                    0\n",
       "TENURE                              0\n",
       "dtype: int64"
      ]
     },
     "execution_count": 13,
     "metadata": {},
     "output_type": "execute_result"
    }
   ],
   "source": [
    "df1.isnull().sum()"
   ]
  },
  {
   "cell_type": "markdown",
   "id": "368d8ea3",
   "metadata": {},
   "source": [
    "### Purchases by type (one-off, installments)\n",
    "To find what type of purchases customers are making on credit card"
   ]
  },
  {
   "cell_type": "code",
   "execution_count": 14,
   "id": "3a31e759",
   "metadata": {},
   "outputs": [
    {
     "data": {
      "text/html": [
       "<div>\n",
       "<style scoped>\n",
       "    .dataframe tbody tr th:only-of-type {\n",
       "        vertical-align: middle;\n",
       "    }\n",
       "\n",
       "    .dataframe tbody tr th {\n",
       "        vertical-align: top;\n",
       "    }\n",
       "\n",
       "    .dataframe thead th {\n",
       "        text-align: right;\n",
       "    }\n",
       "</style>\n",
       "<table border=\"1\" class=\"dataframe\">\n",
       "  <thead>\n",
       "    <tr style=\"text-align: right;\">\n",
       "      <th></th>\n",
       "      <th>ONEOFF_PURCHASES</th>\n",
       "      <th>INSTALLMENTS_PURCHASES</th>\n",
       "    </tr>\n",
       "  </thead>\n",
       "  <tbody>\n",
       "    <tr>\n",
       "      <th>0</th>\n",
       "      <td>0.00</td>\n",
       "      <td>95.40</td>\n",
       "    </tr>\n",
       "    <tr>\n",
       "      <th>1</th>\n",
       "      <td>0.00</td>\n",
       "      <td>0.00</td>\n",
       "    </tr>\n",
       "    <tr>\n",
       "      <th>2</th>\n",
       "      <td>773.17</td>\n",
       "      <td>0.00</td>\n",
       "    </tr>\n",
       "    <tr>\n",
       "      <th>3</th>\n",
       "      <td>1499.00</td>\n",
       "      <td>0.00</td>\n",
       "    </tr>\n",
       "    <tr>\n",
       "      <th>4</th>\n",
       "      <td>16.00</td>\n",
       "      <td>0.00</td>\n",
       "    </tr>\n",
       "    <tr>\n",
       "      <th>...</th>\n",
       "      <td>...</td>\n",
       "      <td>...</td>\n",
       "    </tr>\n",
       "    <tr>\n",
       "      <th>8945</th>\n",
       "      <td>0.00</td>\n",
       "      <td>291.12</td>\n",
       "    </tr>\n",
       "    <tr>\n",
       "      <th>8946</th>\n",
       "      <td>0.00</td>\n",
       "      <td>300.00</td>\n",
       "    </tr>\n",
       "    <tr>\n",
       "      <th>8947</th>\n",
       "      <td>0.00</td>\n",
       "      <td>144.40</td>\n",
       "    </tr>\n",
       "    <tr>\n",
       "      <th>8948</th>\n",
       "      <td>0.00</td>\n",
       "      <td>0.00</td>\n",
       "    </tr>\n",
       "    <tr>\n",
       "      <th>8949</th>\n",
       "      <td>1093.25</td>\n",
       "      <td>0.00</td>\n",
       "    </tr>\n",
       "  </tbody>\n",
       "</table>\n",
       "<p>8950 rows × 2 columns</p>\n",
       "</div>"
      ],
      "text/plain": [
       "      ONEOFF_PURCHASES  INSTALLMENTS_PURCHASES\n",
       "0                 0.00                   95.40\n",
       "1                 0.00                    0.00\n",
       "2               773.17                    0.00\n",
       "3              1499.00                    0.00\n",
       "4                16.00                    0.00\n",
       "...                ...                     ...\n",
       "8945              0.00                  291.12\n",
       "8946              0.00                  300.00\n",
       "8947              0.00                  144.40\n",
       "8948              0.00                    0.00\n",
       "8949           1093.25                    0.00\n",
       "\n",
       "[8950 rows x 2 columns]"
      ]
     },
     "execution_count": 14,
     "metadata": {},
     "output_type": "execute_result"
    }
   ],
   "source": [
    "df1.loc[:,['ONEOFF_PURCHASES','INSTALLMENTS_PURCHASES']]"
   ]
  },
  {
   "cell_type": "markdown",
   "id": "e3c15cbc",
   "metadata": {},
   "source": [
    "### Finding details of customers ONEOFF_PURCHASES and INSTALLMENTS_PURCHASES"
   ]
  },
  {
   "cell_type": "code",
   "execution_count": 15,
   "id": "a1ab3b06",
   "metadata": {},
   "outputs": [
    {
     "data": {
      "text/plain": [
       "(2042, 18)"
      ]
     },
     "execution_count": 15,
     "metadata": {},
     "output_type": "execute_result"
    }
   ],
   "source": [
    "df1[(df1['ONEOFF_PURCHASES']==0) & (df1['INSTALLMENTS_PURCHASES']==0)].shape"
   ]
  },
  {
   "cell_type": "code",
   "execution_count": 16,
   "id": "1dc87974",
   "metadata": {},
   "outputs": [
    {
     "data": {
      "text/plain": [
       "(2774, 18)"
      ]
     },
     "execution_count": 16,
     "metadata": {},
     "output_type": "execute_result"
    }
   ],
   "source": [
    "df1[(df1['ONEOFF_PURCHASES']>0) & (df1['INSTALLMENTS_PURCHASES']>0)].shape"
   ]
  },
  {
   "cell_type": "code",
   "execution_count": 17,
   "id": "c162b6f0",
   "metadata": {},
   "outputs": [
    {
     "data": {
      "text/plain": [
       "(1874, 18)"
      ]
     },
     "execution_count": 17,
     "metadata": {},
     "output_type": "execute_result"
    }
   ],
   "source": [
    "df1[(df1['ONEOFF_PURCHASES']>0) & (df1['INSTALLMENTS_PURCHASES']==0)].shape"
   ]
  },
  {
   "cell_type": "code",
   "execution_count": 18,
   "id": "23de1cca",
   "metadata": {},
   "outputs": [
    {
     "data": {
      "text/plain": [
       "(2260, 18)"
      ]
     },
     "execution_count": 18,
     "metadata": {},
     "output_type": "execute_result"
    }
   ],
   "source": [
    "df1[(df1['ONEOFF_PURCHASES']==0) & (df1['INSTALLMENTS_PURCHASES']>0)].shape"
   ]
  },
  {
   "cell_type": "markdown",
   "id": "022cee15",
   "metadata": {},
   "source": [
    "<b> - As per above detail we found out that there are 4 types of purchase behaviour in the data set. So we need to derive a categorical variable based on their behaviour"
   ]
  },
  {
   "cell_type": "code",
   "execution_count": 19,
   "id": "3e119d7e",
   "metadata": {},
   "outputs": [],
   "source": [
    "def purchase(df1):\n",
    "    if (df1['ONEOFF_PURCHASES']==0) & (df1['INSTALLMENTS_PURCHASES']==0):\n",
    "        return 'none'\n",
    "    if (df1['ONEOFF_PURCHASES']>0) & (df1['INSTALLMENTS_PURCHASES']>0):\n",
    "         return 'both_oneoff_&_installment'\n",
    "    if (df1['ONEOFF_PURCHASES']>0) & (df1['INSTALLMENTS_PURCHASES']==0):\n",
    "        return 'one_off'\n",
    "    if (df1['ONEOFF_PURCHASES']==0) & (df1['INSTALLMENTS_PURCHASES']>0):\n",
    "        return 'installment'"
   ]
  },
  {
   "cell_type": "code",
   "execution_count": 20,
   "id": "710bb106",
   "metadata": {},
   "outputs": [],
   "source": [
    "df1['purchase_type']=df1.apply(purchase,axis=1)"
   ]
  },
  {
   "cell_type": "code",
   "execution_count": 21,
   "id": "fc60407b",
   "metadata": {},
   "outputs": [
    {
     "data": {
      "text/plain": [
       "both_oneoff_&_installment    2774\n",
       "installment                  2260\n",
       "none                         2042\n",
       "one_off                      1874\n",
       "Name: purchase_type, dtype: int64"
      ]
     },
     "execution_count": 21,
     "metadata": {},
     "output_type": "execute_result"
    }
   ],
   "source": [
    "df1['purchase_type'].value_counts()"
   ]
  },
  {
   "cell_type": "markdown",
   "id": "b0d7154d",
   "metadata": {},
   "source": [
    "### Limit_usage (balance to credit limit ratio ) credit card utilization\n",
    "- Lower value implies cutomers are maintaining thier balance properly. Lower value means good credit score"
   ]
  },
  {
   "cell_type": "code",
   "execution_count": 22,
   "id": "b5b44c68",
   "metadata": {},
   "outputs": [],
   "source": [
    "df1['limit_usage']=df1.apply(lambda x: x['BALANCE']/x['CREDIT_LIMIT'], axis=1)"
   ]
  },
  {
   "cell_type": "code",
   "execution_count": 23,
   "id": "c003ae48",
   "metadata": {},
   "outputs": [
    {
     "data": {
      "text/plain": [
       "0    0.040901\n",
       "1    0.457495\n",
       "2    0.332687\n",
       "3    0.222223\n",
       "4    0.681429\n",
       "Name: limit_usage, dtype: float64"
      ]
     },
     "execution_count": 23,
     "metadata": {},
     "output_type": "execute_result"
    }
   ],
   "source": [
    "df1['limit_usage'].head()"
   ]
  },
  {
   "cell_type": "markdown",
   "id": "a65b6b39",
   "metadata": {},
   "source": [
    "### Payments to minimum payments ratio etc."
   ]
  },
  {
   "cell_type": "code",
   "execution_count": 24,
   "id": "af82415b",
   "metadata": {},
   "outputs": [],
   "source": [
    "df1['payment_minpay']=df1.apply(lambda x:x['PAYMENTS']/x['MINIMUM_PAYMENTS'],axis=1)"
   ]
  },
  {
   "cell_type": "markdown",
   "id": "6ec831ef",
   "metadata": {},
   "source": [
    "### Graphs for further Analysis"
   ]
  },
  {
   "cell_type": "code",
   "execution_count": 25,
   "id": "b665099a",
   "metadata": {},
   "outputs": [
    {
     "data": {
      "text/plain": [
       "array([ 7.23117631, 13.24507411, 10.07670114,  5.49813638])"
      ]
     },
     "execution_count": 25,
     "metadata": {},
     "output_type": "execute_result"
    }
   ],
   "source": [
    "x=df1.groupby('purchase_type').apply(lambda x: np.mean(x['payment_minpay']))\n",
    "type(x)\n",
    "x.values"
   ]
  },
  {
   "cell_type": "code",
   "execution_count": 26,
   "id": "ea430b18",
   "metadata": {},
   "outputs": [
    {
     "data": {
      "image/png": "[encoded data removed]",
      "text/plain": [
       "<Figure size 432x288 with 1 Axes>"
      ]
     },
     "metadata": {
      "needs_background": "light"
     },
     "output_type": "display_data"
    }
   ],
   "source": [
    "fig,ax=plt.subplots()\n",
    "ax.barh(y=range(len(x)), width=x.values,align='center')\n",
    "ax.set(yticks= np.arange(len(x)),yticklabels = x.index);\n",
    "plt.title('Mean payment_minpayment ratio for each purchase type')\n",
    "plt.show()"
   ]
  },
  {
   "cell_type": "code",
   "execution_count": 27,
   "id": "f99c83d7",
   "metadata": {},
   "outputs": [
    {
     "data": {
      "text/plain": [
       "<AxesSubplot:ylabel='purchase_type'>"
      ]
     },
     "execution_count": 27,
     "metadata": {},
     "output_type": "execute_result"
    },
    {
     "data": {
      "image/png": "[encoded data removed]",
      "text/plain": [
       "<Figure size 432x288 with 1 Axes>"
      ]
     },
     "metadata": {
      "needs_background": "light"
     },
     "output_type": "display_data"
    }
   ],
   "source": [
    "df1.groupby('purchase_type').apply(lambda x: np.mean(x['limit_usage'])).plot.barh()"
   ]
  },
  {
   "cell_type": "markdown",
   "id": "8f3ac0e0",
   "metadata": {},
   "source": [
    "<b>- Customers who do installment purchases have better limit score"
   ]
  },
  {
   "cell_type": "markdown",
   "id": "1cb83a8b",
   "metadata": {},
   "source": [
    "### Preparing Machine learning algorithm\n",
    "We do have some categorical data which need to convert with the help of dummies."
   ]
  },
  {
   "cell_type": "code",
   "execution_count": 28,
   "id": "14b515e4",
   "metadata": {},
   "outputs": [],
   "source": [
    "cr_log=df1.drop(['CUST_ID','purchase_type'],axis=1).applymap(lambda x: np.log(x+1))"
   ]
  },
  {
   "cell_type": "code",
   "execution_count": 29,
   "id": "03ce89e2",
   "metadata": {},
   "outputs": [],
   "source": [
    "col=['BALANCE','PURCHASES','CASH_ADVANCE','TENURE','PAYMENTS','MINIMUM_PAYMENTS','PRC_FULL_PAYMENT','CREDIT_LIMIT']\n",
    "df1pre=cr_log[[x for x in cr_log.columns if x not in col ]]"
   ]
  },
  {
   "cell_type": "code",
   "execution_count": 30,
   "id": "8fd39dbc",
   "metadata": {},
   "outputs": [
    {
     "data": {
      "text/html": [
       "<div>\n",
       "<style scoped>\n",
       "    .dataframe tbody tr th:only-of-type {\n",
       "        vertical-align: middle;\n",
       "    }\n",
       "\n",
       "    .dataframe tbody tr th {\n",
       "        vertical-align: top;\n",
       "    }\n",
       "\n",
       "    .dataframe thead th {\n",
       "        text-align: right;\n",
       "    }\n",
       "</style>\n",
       "<table border=\"1\" class=\"dataframe\">\n",
       "  <thead>\n",
       "    <tr style=\"text-align: right;\">\n",
       "      <th></th>\n",
       "      <th>both_oneoff_&amp;_installment</th>\n",
       "      <th>installment</th>\n",
       "      <th>none</th>\n",
       "      <th>one_off</th>\n",
       "    </tr>\n",
       "  </thead>\n",
       "  <tbody>\n",
       "    <tr>\n",
       "      <th>0</th>\n",
       "      <td>0</td>\n",
       "      <td>1</td>\n",
       "      <td>0</td>\n",
       "      <td>0</td>\n",
       "    </tr>\n",
       "    <tr>\n",
       "      <th>1</th>\n",
       "      <td>0</td>\n",
       "      <td>0</td>\n",
       "      <td>1</td>\n",
       "      <td>0</td>\n",
       "    </tr>\n",
       "    <tr>\n",
       "      <th>2</th>\n",
       "      <td>0</td>\n",
       "      <td>0</td>\n",
       "      <td>0</td>\n",
       "      <td>1</td>\n",
       "    </tr>\n",
       "    <tr>\n",
       "      <th>3</th>\n",
       "      <td>0</td>\n",
       "      <td>0</td>\n",
       "      <td>0</td>\n",
       "      <td>1</td>\n",
       "    </tr>\n",
       "    <tr>\n",
       "      <th>4</th>\n",
       "      <td>0</td>\n",
       "      <td>0</td>\n",
       "      <td>0</td>\n",
       "      <td>1</td>\n",
       "    </tr>\n",
       "  </tbody>\n",
       "</table>\n",
       "</div>"
      ],
      "text/plain": [
       "   both_oneoff_&_installment  installment  none  one_off\n",
       "0                          0            1     0        0\n",
       "1                          0            0     1        0\n",
       "2                          0            0     0        1\n",
       "3                          0            0     0        1\n",
       "4                          0            0     0        1"
      ]
     },
     "execution_count": 30,
     "metadata": {},
     "output_type": "execute_result"
    }
   ],
   "source": [
    "df1pre['purchase_type']=df1.loc[:,'purchase_type']\n",
    "pd.get_dummies(df1pre['purchase_type']).head()"
   ]
  },
  {
   "cell_type": "code",
   "execution_count": 31,
   "id": "1ee02cf2",
   "metadata": {},
   "outputs": [],
   "source": [
    "df1_dummy=pd.concat([df1pre,pd.get_dummies(df1pre['purchase_type'])],axis=1)"
   ]
  },
  {
   "cell_type": "code",
   "execution_count": 32,
   "id": "5f1e69d0",
   "metadata": {},
   "outputs": [
    {
     "data": {
      "text/plain": [
       "BALANCE_FREQUENCY                   False\n",
       "ONEOFF_PURCHASES                    False\n",
       "INSTALLMENTS_PURCHASES              False\n",
       "PURCHASES_FREQUENCY                 False\n",
       "ONEOFF_PURCHASES_FREQUENCY          False\n",
       "PURCHASES_INSTALLMENTS_FREQUENCY    False\n",
       "CASH_ADVANCE_FREQUENCY              False\n",
       "CASH_ADVANCE_TRX                    False\n",
       "PURCHASES_TRX                       False\n",
       "limit_usage                         False\n",
       "payment_minpay                      False\n",
       "both_oneoff_&_installment           False\n",
       "installment                         False\n",
       "none                                False\n",
       "one_off                             False\n",
       "dtype: bool"
      ]
     },
     "execution_count": 32,
     "metadata": {},
     "output_type": "execute_result"
    }
   ],
   "source": [
    "df1_dummy=df1_dummy.drop('purchase_type',axis=1)\n",
    "df1_dummy.isnull().any()"
   ]
  },
  {
   "cell_type": "markdown",
   "id": "8693ca3b",
   "metadata": {},
   "source": [
    "### Segregating numbers and categorical data\n",
    "#### Numerical Columns"
   ]
  },
  {
   "cell_type": "code",
   "execution_count": 33,
   "id": "52c75ef4",
   "metadata": {},
   "outputs": [],
   "source": [
    "df1=df1_dummy.copy()"
   ]
  },
  {
   "cell_type": "code",
   "execution_count": 34,
   "id": "8f3713aa",
   "metadata": {},
   "outputs": [],
   "source": [
    "df1_numerical= df1.select_dtypes(include='number')"
   ]
  },
  {
   "cell_type": "code",
   "execution_count": 35,
   "id": "8c7f4d3f",
   "metadata": {},
   "outputs": [
    {
     "data": {
      "text/plain": [
       "float64    11\n",
       "uint8       4\n",
       "dtype: int64"
      ]
     },
     "execution_count": 35,
     "metadata": {},
     "output_type": "execute_result"
    }
   ],
   "source": [
    "df1.dtypes.value_counts()"
   ]
  },
  {
   "cell_type": "markdown",
   "id": "057e2229",
   "metadata": {},
   "source": [
    "#### Boxplots"
   ]
  },
  {
   "cell_type": "code",
   "execution_count": 36,
   "id": "e02e959a",
   "metadata": {},
   "outputs": [
    {
     "data": {
      "image/png": "[encoded data removed]",
      "text/plain": [
       "<Figure size 3600x2520 with 16 Axes>"
      ]
     },
     "metadata": {
      "needs_background": "light"
     },
     "output_type": "display_data"
    }
   ],
   "source": [
    "fig, ax = plt.subplots(nrows=8, ncols=2, figsize = (50, 35))\n",
    "\n",
    "# plot the count plot using boxplot() for each numerical variable\n",
    "for variable, subplot in zip(df1_numerical, ax.flatten()):\n",
    "    sns.boxplot(df1_numerical[variable], ax = subplot)"
   ]
  },
  {
   "cell_type": "markdown",
   "id": "30885fe5",
   "metadata": {},
   "source": [
    "- We can see presence of outliers"
   ]
  },
  {
   "cell_type": "markdown",
   "id": "0814e51f",
   "metadata": {},
   "source": [
    "#### Histogram"
   ]
  },
  {
   "cell_type": "code",
   "execution_count": 37,
   "id": "c648871e",
   "metadata": {},
   "outputs": [
    {
     "data": {
      "image/png": "[encoded data removed]",
      "text/plain": [
       "<Figure size 3600x4320 with 16 Axes>"
      ]
     },
     "metadata": {
      "needs_background": "light"
     },
     "output_type": "display_data"
    }
   ],
   "source": [
    "a=df1_numerical.hist(figsize=(50,60))"
   ]
  },
  {
   "cell_type": "markdown",
   "id": "d9974417",
   "metadata": {},
   "source": [
    "### Outlier Treatment"
   ]
  },
  {
   "cell_type": "code",
   "execution_count": 38,
   "id": "0f14be27",
   "metadata": {},
   "outputs": [
    {
     "data": {
      "text/html": [
       "<div>\n",
       "<style scoped>\n",
       "    .dataframe tbody tr th:only-of-type {\n",
       "        vertical-align: middle;\n",
       "    }\n",
       "\n",
       "    .dataframe tbody tr th {\n",
       "        vertical-align: top;\n",
       "    }\n",
       "\n",
       "    .dataframe thead th {\n",
       "        text-align: right;\n",
       "    }\n",
       "</style>\n",
       "<table border=\"1\" class=\"dataframe\">\n",
       "  <thead>\n",
       "    <tr style=\"text-align: right;\">\n",
       "      <th></th>\n",
       "      <th>BALANCE_FREQUENCY</th>\n",
       "      <th>ONEOFF_PURCHASES</th>\n",
       "      <th>INSTALLMENTS_PURCHASES</th>\n",
       "      <th>PURCHASES_FREQUENCY</th>\n",
       "      <th>ONEOFF_PURCHASES_FREQUENCY</th>\n",
       "      <th>PURCHASES_INSTALLMENTS_FREQUENCY</th>\n",
       "      <th>CASH_ADVANCE_FREQUENCY</th>\n",
       "      <th>CASH_ADVANCE_TRX</th>\n",
       "      <th>PURCHASES_TRX</th>\n",
       "      <th>limit_usage</th>\n",
       "      <th>payment_minpay</th>\n",
       "      <th>both_oneoff_&amp;_installment</th>\n",
       "      <th>installment</th>\n",
       "      <th>none</th>\n",
       "      <th>one_off</th>\n",
       "    </tr>\n",
       "  </thead>\n",
       "  <tbody>\n",
       "    <tr>\n",
       "      <th>count</th>\n",
       "      <td>8950.000000</td>\n",
       "      <td>8950.000000</td>\n",
       "      <td>8950.000000</td>\n",
       "      <td>8950.000000</td>\n",
       "      <td>8950.000000</td>\n",
       "      <td>8950.000000</td>\n",
       "      <td>8950.000000</td>\n",
       "      <td>8950.000000</td>\n",
       "      <td>8950.000000</td>\n",
       "      <td>8950.000000</td>\n",
       "      <td>8950.000000</td>\n",
       "      <td>8950.000000</td>\n",
       "      <td>8950.000000</td>\n",
       "      <td>8950.000000</td>\n",
       "      <td>8950.000000</td>\n",
       "    </tr>\n",
       "    <tr>\n",
       "      <th>mean</th>\n",
       "      <td>0.619940</td>\n",
       "      <td>3.204274</td>\n",
       "      <td>3.352403</td>\n",
       "      <td>0.361268</td>\n",
       "      <td>0.158699</td>\n",
       "      <td>0.270072</td>\n",
       "      <td>0.113512</td>\n",
       "      <td>0.817570</td>\n",
       "      <td>1.894731</td>\n",
       "      <td>0.296081</td>\n",
       "      <td>1.353976</td>\n",
       "      <td>0.309944</td>\n",
       "      <td>0.252514</td>\n",
       "      <td>0.228156</td>\n",
       "      <td>0.209385</td>\n",
       "    </tr>\n",
       "    <tr>\n",
       "      <th>std</th>\n",
       "      <td>0.148590</td>\n",
       "      <td>3.246365</td>\n",
       "      <td>3.082973</td>\n",
       "      <td>0.277317</td>\n",
       "      <td>0.216672</td>\n",
       "      <td>0.281852</td>\n",
       "      <td>0.156716</td>\n",
       "      <td>1.009316</td>\n",
       "      <td>1.373856</td>\n",
       "      <td>0.250303</td>\n",
       "      <td>0.940928</td>\n",
       "      <td>0.462496</td>\n",
       "      <td>0.434479</td>\n",
       "      <td>0.419667</td>\n",
       "      <td>0.406893</td>\n",
       "    </tr>\n",
       "    <tr>\n",
       "      <th>min</th>\n",
       "      <td>0.000000</td>\n",
       "      <td>0.000000</td>\n",
       "      <td>0.000000</td>\n",
       "      <td>0.000000</td>\n",
       "      <td>0.000000</td>\n",
       "      <td>0.000000</td>\n",
       "      <td>0.000000</td>\n",
       "      <td>0.000000</td>\n",
       "      <td>0.000000</td>\n",
       "      <td>0.000000</td>\n",
       "      <td>0.000000</td>\n",
       "      <td>0.000000</td>\n",
       "      <td>0.000000</td>\n",
       "      <td>0.000000</td>\n",
       "      <td>0.000000</td>\n",
       "    </tr>\n",
       "    <tr>\n",
       "      <th>2%</th>\n",
       "      <td>0.154151</td>\n",
       "      <td>0.000000</td>\n",
       "      <td>0.000000</td>\n",
       "      <td>0.000000</td>\n",
       "      <td>0.000000</td>\n",
       "      <td>0.000000</td>\n",
       "      <td>0.000000</td>\n",
       "      <td>0.000000</td>\n",
       "      <td>0.000000</td>\n",
       "      <td>0.000649</td>\n",
       "      <td>0.000000</td>\n",
       "      <td>0.000000</td>\n",
       "      <td>0.000000</td>\n",
       "      <td>0.000000</td>\n",
       "      <td>0.000000</td>\n",
       "    </tr>\n",
       "    <tr>\n",
       "      <th>50%</th>\n",
       "      <td>0.693147</td>\n",
       "      <td>3.663562</td>\n",
       "      <td>4.499810</td>\n",
       "      <td>0.405465</td>\n",
       "      <td>0.080042</td>\n",
       "      <td>0.154151</td>\n",
       "      <td>0.000000</td>\n",
       "      <td>0.000000</td>\n",
       "      <td>2.079442</td>\n",
       "      <td>0.264455</td>\n",
       "      <td>1.104339</td>\n",
       "      <td>0.000000</td>\n",
       "      <td>0.000000</td>\n",
       "      <td>0.000000</td>\n",
       "      <td>0.000000</td>\n",
       "    </tr>\n",
       "    <tr>\n",
       "      <th>98%</th>\n",
       "      <td>0.693147</td>\n",
       "      <td>8.396964</td>\n",
       "      <td>7.922400</td>\n",
       "      <td>0.693147</td>\n",
       "      <td>0.693147</td>\n",
       "      <td>0.693147</td>\n",
       "      <td>0.559616</td>\n",
       "      <td>3.178054</td>\n",
       "      <td>4.521789</td>\n",
       "      <td>0.699421</td>\n",
       "      <td>3.596314</td>\n",
       "      <td>1.000000</td>\n",
       "      <td>1.000000</td>\n",
       "      <td>1.000000</td>\n",
       "      <td>1.000000</td>\n",
       "    </tr>\n",
       "    <tr>\n",
       "      <th>max</th>\n",
       "      <td>0.693147</td>\n",
       "      <td>10.615512</td>\n",
       "      <td>10.021315</td>\n",
       "      <td>0.693147</td>\n",
       "      <td>0.693147</td>\n",
       "      <td>0.693147</td>\n",
       "      <td>0.916291</td>\n",
       "      <td>4.820282</td>\n",
       "      <td>5.883322</td>\n",
       "      <td>2.827902</td>\n",
       "      <td>8.830767</td>\n",
       "      <td>1.000000</td>\n",
       "      <td>1.000000</td>\n",
       "      <td>1.000000</td>\n",
       "      <td>1.000000</td>\n",
       "    </tr>\n",
       "  </tbody>\n",
       "</table>\n",
       "</div>"
      ],
      "text/plain": [
       "       BALANCE_FREQUENCY  ONEOFF_PURCHASES  INSTALLMENTS_PURCHASES  \\\n",
       "count        8950.000000       8950.000000             8950.000000   \n",
       "mean            0.619940          3.204274                3.352403   \n",
       "std             0.148590          3.246365                3.082973   \n",
       "min             0.000000          0.000000                0.000000   \n",
       "2%              0.154151          0.000000                0.000000   \n",
       "50%             0.693147          3.663562                4.499810   \n",
       "98%             0.693147          8.396964                7.922400   \n",
       "max             0.693147         10.615512               10.021315   \n",
       "\n",
       "       PURCHASES_FREQUENCY  ONEOFF_PURCHASES_FREQUENCY  \\\n",
       "count          8950.000000                 8950.000000   \n",
       "mean              0.361268                    0.158699   \n",
       "std               0.277317                    0.216672   \n",
       "min               0.000000                    0.000000   \n",
       "2%                0.000000                    0.000000   \n",
       "50%               0.405465                    0.080042   \n",
       "98%               0.693147                    0.693147   \n",
       "max               0.693147                    0.693147   \n",
       "\n",
       "       PURCHASES_INSTALLMENTS_FREQUENCY  CASH_ADVANCE_FREQUENCY  \\\n",
       "count                       8950.000000             8950.000000   \n",
       "mean                           0.270072                0.113512   \n",
       "std                            0.281852                0.156716   \n",
       "min                            0.000000                0.000000   \n",
       "2%                             0.000000                0.000000   \n",
       "50%                            0.154151                0.000000   \n",
       "98%                            0.693147                0.559616   \n",
       "max                            0.693147                0.916291   \n",
       "\n",
       "       CASH_ADVANCE_TRX  PURCHASES_TRX  limit_usage  payment_minpay  \\\n",
       "count       8950.000000    8950.000000  8950.000000     8950.000000   \n",
       "mean           0.817570       1.894731     0.296081        1.353976   \n",
       "std            1.009316       1.373856     0.250303        0.940928   \n",
       "min            0.000000       0.000000     0.000000        0.000000   \n",
       "2%             0.000000       0.000000     0.000649        0.000000   \n",
       "50%            0.000000       2.079442     0.264455        1.104339   \n",
       "98%            3.178054       4.521789     0.699421        3.596314   \n",
       "max            4.820282       5.883322     2.827902        8.830767   \n",
       "\n",
       "       both_oneoff_&_installment  installment         none      one_off  \n",
       "count                8950.000000  8950.000000  8950.000000  8950.000000  \n",
       "mean                    0.309944     0.252514     0.228156     0.209385  \n",
       "std                     0.462496     0.434479     0.419667     0.406893  \n",
       "min                     0.000000     0.000000     0.000000     0.000000  \n",
       "2%                      0.000000     0.000000     0.000000     0.000000  \n",
       "50%                     0.000000     0.000000     0.000000     0.000000  \n",
       "98%                     1.000000     1.000000     1.000000     1.000000  \n",
       "max                     1.000000     1.000000     1.000000     1.000000  "
      ]
     },
     "execution_count": 38,
     "metadata": {},
     "output_type": "execute_result"
    }
   ],
   "source": [
    "df1.describe(percentiles=[0.02,0.98])"
   ]
  },
  {
   "cell_type": "code",
   "execution_count": 39,
   "id": "722a69cd",
   "metadata": {},
   "outputs": [],
   "source": [
    "def outlier_handle(x):\n",
    "    x = x.clip(upper=x.quantile(0.98))\n",
    "    x = x.clip(lower=x.quantile(0.02))\n",
    "    return x"
   ]
  },
  {
   "cell_type": "code",
   "execution_count": 40,
   "id": "bbb2e71f",
   "metadata": {},
   "outputs": [
    {
     "data": {
      "text/plain": [
       "(8950, 15)"
      ]
     },
     "execution_count": 40,
     "metadata": {},
     "output_type": "execute_result"
    }
   ],
   "source": [
    "df1.shape"
   ]
  },
  {
   "cell_type": "code",
   "execution_count": 41,
   "id": "192533d9",
   "metadata": {},
   "outputs": [],
   "source": [
    "df1=df1_numerical.apply(outlier_handle)"
   ]
  },
  {
   "cell_type": "code",
   "execution_count": 42,
   "id": "c1a5be97",
   "metadata": {},
   "outputs": [
    {
     "data": {
      "text/html": [
       "<div>\n",
       "<style scoped>\n",
       "    .dataframe tbody tr th:only-of-type {\n",
       "        vertical-align: middle;\n",
       "    }\n",
       "\n",
       "    .dataframe tbody tr th {\n",
       "        vertical-align: top;\n",
       "    }\n",
       "\n",
       "    .dataframe thead th {\n",
       "        text-align: right;\n",
       "    }\n",
       "</style>\n",
       "<table border=\"1\" class=\"dataframe\">\n",
       "  <thead>\n",
       "    <tr style=\"text-align: right;\">\n",
       "      <th></th>\n",
       "      <th>BALANCE_FREQUENCY</th>\n",
       "      <th>ONEOFF_PURCHASES</th>\n",
       "      <th>INSTALLMENTS_PURCHASES</th>\n",
       "      <th>PURCHASES_FREQUENCY</th>\n",
       "      <th>ONEOFF_PURCHASES_FREQUENCY</th>\n",
       "      <th>PURCHASES_INSTALLMENTS_FREQUENCY</th>\n",
       "      <th>CASH_ADVANCE_FREQUENCY</th>\n",
       "      <th>CASH_ADVANCE_TRX</th>\n",
       "      <th>PURCHASES_TRX</th>\n",
       "      <th>limit_usage</th>\n",
       "      <th>payment_minpay</th>\n",
       "      <th>both_oneoff_&amp;_installment</th>\n",
       "      <th>installment</th>\n",
       "      <th>none</th>\n",
       "      <th>one_off</th>\n",
       "    </tr>\n",
       "  </thead>\n",
       "  <tbody>\n",
       "    <tr>\n",
       "      <th>count</th>\n",
       "      <td>8950.000000</td>\n",
       "      <td>8950.000000</td>\n",
       "      <td>8950.000000</td>\n",
       "      <td>8950.000000</td>\n",
       "      <td>8950.000000</td>\n",
       "      <td>8950.000000</td>\n",
       "      <td>8950.000000</td>\n",
       "      <td>8950.000000</td>\n",
       "      <td>8950.000000</td>\n",
       "      <td>8950.000000</td>\n",
       "      <td>8950.000000</td>\n",
       "      <td>8950.000000</td>\n",
       "      <td>8950.000000</td>\n",
       "      <td>8950.000000</td>\n",
       "      <td>8950.000000</td>\n",
       "    </tr>\n",
       "    <tr>\n",
       "      <th>mean</th>\n",
       "      <td>0.621953</td>\n",
       "      <td>3.193542</td>\n",
       "      <td>3.343136</td>\n",
       "      <td>0.361268</td>\n",
       "      <td>0.158699</td>\n",
       "      <td>0.270072</td>\n",
       "      <td>0.112246</td>\n",
       "      <td>0.810449</td>\n",
       "      <td>1.887739</td>\n",
       "      <td>0.294992</td>\n",
       "      <td>1.339358</td>\n",
       "      <td>0.309944</td>\n",
       "      <td>0.252514</td>\n",
       "      <td>0.228156</td>\n",
       "      <td>0.209385</td>\n",
       "    </tr>\n",
       "    <tr>\n",
       "      <th>std</th>\n",
       "      <td>0.141234</td>\n",
       "      <td>3.227491</td>\n",
       "      <td>3.067906</td>\n",
       "      <td>0.277317</td>\n",
       "      <td>0.216672</td>\n",
       "      <td>0.281852</td>\n",
       "      <td>0.152590</td>\n",
       "      <td>0.989993</td>\n",
       "      <td>1.358754</td>\n",
       "      <td>0.247242</td>\n",
       "      <td>0.887665</td>\n",
       "      <td>0.462496</td>\n",
       "      <td>0.434479</td>\n",
       "      <td>0.419667</td>\n",
       "      <td>0.406893</td>\n",
       "    </tr>\n",
       "    <tr>\n",
       "      <th>min</th>\n",
       "      <td>0.154151</td>\n",
       "      <td>0.000000</td>\n",
       "      <td>0.000000</td>\n",
       "      <td>0.000000</td>\n",
       "      <td>0.000000</td>\n",
       "      <td>0.000000</td>\n",
       "      <td>0.000000</td>\n",
       "      <td>0.000000</td>\n",
       "      <td>0.000000</td>\n",
       "      <td>0.000649</td>\n",
       "      <td>0.000000</td>\n",
       "      <td>0.000000</td>\n",
       "      <td>0.000000</td>\n",
       "      <td>0.000000</td>\n",
       "      <td>0.000000</td>\n",
       "    </tr>\n",
       "    <tr>\n",
       "      <th>2%</th>\n",
       "      <td>0.154151</td>\n",
       "      <td>0.000000</td>\n",
       "      <td>0.000000</td>\n",
       "      <td>0.000000</td>\n",
       "      <td>0.000000</td>\n",
       "      <td>0.000000</td>\n",
       "      <td>0.000000</td>\n",
       "      <td>0.000000</td>\n",
       "      <td>0.000000</td>\n",
       "      <td>0.000649</td>\n",
       "      <td>0.000000</td>\n",
       "      <td>0.000000</td>\n",
       "      <td>0.000000</td>\n",
       "      <td>0.000000</td>\n",
       "      <td>0.000000</td>\n",
       "    </tr>\n",
       "    <tr>\n",
       "      <th>50%</th>\n",
       "      <td>0.693147</td>\n",
       "      <td>3.663562</td>\n",
       "      <td>4.499810</td>\n",
       "      <td>0.405465</td>\n",
       "      <td>0.080042</td>\n",
       "      <td>0.154151</td>\n",
       "      <td>0.000000</td>\n",
       "      <td>0.000000</td>\n",
       "      <td>2.079442</td>\n",
       "      <td>0.264455</td>\n",
       "      <td>1.104339</td>\n",
       "      <td>0.000000</td>\n",
       "      <td>0.000000</td>\n",
       "      <td>0.000000</td>\n",
       "      <td>0.000000</td>\n",
       "    </tr>\n",
       "    <tr>\n",
       "      <th>98%</th>\n",
       "      <td>0.693147</td>\n",
       "      <td>8.396936</td>\n",
       "      <td>7.922285</td>\n",
       "      <td>0.693147</td>\n",
       "      <td>0.693147</td>\n",
       "      <td>0.693147</td>\n",
       "      <td>0.559616</td>\n",
       "      <td>3.178054</td>\n",
       "      <td>4.521789</td>\n",
       "      <td>0.699418</td>\n",
       "      <td>3.596240</td>\n",
       "      <td>1.000000</td>\n",
       "      <td>1.000000</td>\n",
       "      <td>1.000000</td>\n",
       "      <td>1.000000</td>\n",
       "    </tr>\n",
       "    <tr>\n",
       "      <th>max</th>\n",
       "      <td>0.693147</td>\n",
       "      <td>8.396964</td>\n",
       "      <td>7.922400</td>\n",
       "      <td>0.693147</td>\n",
       "      <td>0.693147</td>\n",
       "      <td>0.693147</td>\n",
       "      <td>0.559616</td>\n",
       "      <td>3.178054</td>\n",
       "      <td>4.521789</td>\n",
       "      <td>0.699421</td>\n",
       "      <td>3.596314</td>\n",
       "      <td>1.000000</td>\n",
       "      <td>1.000000</td>\n",
       "      <td>1.000000</td>\n",
       "      <td>1.000000</td>\n",
       "    </tr>\n",
       "  </tbody>\n",
       "</table>\n",
       "</div>"
      ],
      "text/plain": [
       "       BALANCE_FREQUENCY  ONEOFF_PURCHASES  INSTALLMENTS_PURCHASES  \\\n",
       "count        8950.000000       8950.000000             8950.000000   \n",
       "mean            0.621953          3.193542                3.343136   \n",
       "std             0.141234          3.227491                3.067906   \n",
       "min             0.154151          0.000000                0.000000   \n",
       "2%              0.154151          0.000000                0.000000   \n",
       "50%             0.693147          3.663562                4.499810   \n",
       "98%             0.693147          8.396936                7.922285   \n",
       "max             0.693147          8.396964                7.922400   \n",
       "\n",
       "       PURCHASES_FREQUENCY  ONEOFF_PURCHASES_FREQUENCY  \\\n",
       "count          8950.000000                 8950.000000   \n",
       "mean              0.361268                    0.158699   \n",
       "std               0.277317                    0.216672   \n",
       "min               0.000000                    0.000000   \n",
       "2%                0.000000                    0.000000   \n",
       "50%               0.405465                    0.080042   \n",
       "98%               0.693147                    0.693147   \n",
       "max               0.693147                    0.693147   \n",
       "\n",
       "       PURCHASES_INSTALLMENTS_FREQUENCY  CASH_ADVANCE_FREQUENCY  \\\n",
       "count                       8950.000000             8950.000000   \n",
       "mean                           0.270072                0.112246   \n",
       "std                            0.281852                0.152590   \n",
       "min                            0.000000                0.000000   \n",
       "2%                             0.000000                0.000000   \n",
       "50%                            0.154151                0.000000   \n",
       "98%                            0.693147                0.559616   \n",
       "max                            0.693147                0.559616   \n",
       "\n",
       "       CASH_ADVANCE_TRX  PURCHASES_TRX  limit_usage  payment_minpay  \\\n",
       "count       8950.000000    8950.000000  8950.000000     8950.000000   \n",
       "mean           0.810449       1.887739     0.294992        1.339358   \n",
       "std            0.989993       1.358754     0.247242        0.887665   \n",
       "min            0.000000       0.000000     0.000649        0.000000   \n",
       "2%             0.000000       0.000000     0.000649        0.000000   \n",
       "50%            0.000000       2.079442     0.264455        1.104339   \n",
       "98%            3.178054       4.521789     0.699418        3.596240   \n",
       "max            3.178054       4.521789     0.699421        3.596314   \n",
       "\n",
       "       both_oneoff_&_installment  installment         none      one_off  \n",
       "count                8950.000000  8950.000000  8950.000000  8950.000000  \n",
       "mean                    0.309944     0.252514     0.228156     0.209385  \n",
       "std                     0.462496     0.434479     0.419667     0.406893  \n",
       "min                     0.000000     0.000000     0.000000     0.000000  \n",
       "2%                      0.000000     0.000000     0.000000     0.000000  \n",
       "50%                     0.000000     0.000000     0.000000     0.000000  \n",
       "98%                     1.000000     1.000000     1.000000     1.000000  \n",
       "max                     1.000000     1.000000     1.000000     1.000000  "
      ]
     },
     "execution_count": 42,
     "metadata": {},
     "output_type": "execute_result"
    }
   ],
   "source": [
    "df1.describe(percentiles=[0.02,0.98])"
   ]
  },
  {
   "cell_type": "markdown",
   "id": "08579f15",
   "metadata": {},
   "source": [
    " ### Correlation"
   ]
  },
  {
   "cell_type": "code",
   "execution_count": 43,
   "id": "2d56b924",
   "metadata": {},
   "outputs": [
    {
     "data": {
      "image/png": "[encoded data removed]",
      "text/plain": [
       "<Figure size 1008x936 with 2 Axes>"
      ]
     },
     "metadata": {
      "needs_background": "light"
     },
     "output_type": "display_data"
    }
   ],
   "source": [
    "corr = df1.corr()\n",
    "plt.figure(figsize=(14,13))\n",
    "sns.heatmap(corr,annot=True,cmap='coolwarm')\n",
    "plt.show()"
   ]
  },
  {
   "cell_type": "code",
   "execution_count": 44,
   "id": "41568fe4",
   "metadata": {},
   "outputs": [
    {
     "name": "stdout",
     "output_type": "stream",
     "text": [
      "['CASH_ADVANCE_TRX', 'PURCHASES_INSTALLMENTS_FREQUENCY', 'PURCHASES_TRX']\n",
      "3\n"
     ]
    }
   ],
   "source": [
    "def high_corr(data, thresh):\n",
    "    res = set()\n",
    "    corr = df1.corr()\n",
    "    for i in range(len(corr.columns)):\n",
    "        for j in range(i):\n",
    "            if corr.iloc[i,j] >= thresh:\n",
    "                res.add(corr.columns[i])\n",
    "    return list(res)\n",
    "\n",
    "multicoll_cols = high_corr(df1,0.9)\n",
    "print(multicoll_cols)\n",
    "print(len(multicoll_cols))"
   ]
  },
  {
   "cell_type": "markdown",
   "id": "554672a6",
   "metadata": {},
   "source": [
    "### Inference\n",
    "- Columns with multicollinearity are:<br>\n",
    "['Monthly_avg_purchase', 'PURCHASES_INSTALLMENTS_FREQUENCY', 'PURCHASES_TRX', 'Monthly_cash_advance', 'CASH_ADVANCE_TRX']"
   ]
  },
  {
   "cell_type": "markdown",
   "id": "e1702a59",
   "metadata": {},
   "source": [
    "### Removing Multicollinearity"
   ]
  },
  {
   "cell_type": "code",
   "execution_count": 45,
   "id": "b673814d",
   "metadata": {},
   "outputs": [
    {
     "name": "stdout",
     "output_type": "stream",
     "text": [
      "12\n",
      "Index(['BALANCE_FREQUENCY', 'ONEOFF_PURCHASES', 'INSTALLMENTS_PURCHASES',\n",
      "       'PURCHASES_FREQUENCY', 'ONEOFF_PURCHASES_FREQUENCY',\n",
      "       'CASH_ADVANCE_FREQUENCY', 'limit_usage', 'payment_minpay',\n",
      "       'both_oneoff_&_installment', 'installment', 'none', 'one_off'],\n",
      "      dtype='object')\n"
     ]
    }
   ],
   "source": [
    "df1.drop(['CASH_ADVANCE_TRX', 'PURCHASES_TRX', 'PURCHASES_INSTALLMENTS_FREQUENCY'],axis=1,inplace=True)\n",
    "print(len(df1.columns))\n",
    "print(df1.columns)"
   ]
  },
  {
   "cell_type": "code",
   "execution_count": 46,
   "id": "ff7c417b",
   "metadata": {},
   "outputs": [
    {
     "data": {
      "text/plain": [
       "float64    8\n",
       "uint8      4\n",
       "dtype: int64"
      ]
     },
     "execution_count": 46,
     "metadata": {},
     "output_type": "execute_result"
    }
   ],
   "source": [
    "df1.dtypes.value_counts()"
   ]
  },
  {
   "cell_type": "markdown",
   "id": "bdcda9a4",
   "metadata": {},
   "source": [
    "### Standardizing the Data"
   ]
  },
  {
   "cell_type": "code",
   "execution_count": 47,
   "id": "c4918390",
   "metadata": {},
   "outputs": [],
   "source": [
    "from sklearn.preprocessing import  StandardScaler"
   ]
  },
  {
   "cell_type": "code",
   "execution_count": 48,
   "id": "c8f81536",
   "metadata": {},
   "outputs": [],
   "source": [
    "sc=StandardScaler()"
   ]
  },
  {
   "cell_type": "code",
   "execution_count": 49,
   "id": "4de9b2b4",
   "metadata": {},
   "outputs": [
    {
     "data": {
      "text/plain": [
       "(8950, 12)"
      ]
     },
     "execution_count": 49,
     "metadata": {},
     "output_type": "execute_result"
    }
   ],
   "source": [
    "df1.shape"
   ]
  },
  {
   "cell_type": "code",
   "execution_count": 50,
   "id": "2a8e6e12",
   "metadata": {},
   "outputs": [],
   "source": [
    "df1_scaled=sc.fit_transform(df1)"
   ]
  },
  {
   "cell_type": "markdown",
   "id": "5427b536",
   "metadata": {},
   "source": [
    "### Applying PCA\n",
    "With the help of principal component analysis we will reduce features"
   ]
  },
  {
   "cell_type": "code",
   "execution_count": 51,
   "id": "c78fd1cc",
   "metadata": {},
   "outputs": [],
   "source": [
    "from sklearn.decomposition import PCA"
   ]
  },
  {
   "cell_type": "code",
   "execution_count": 52,
   "id": "857d2cf0",
   "metadata": {},
   "outputs": [],
   "source": [
    "pc=PCA(n_components=12)\n",
    "df1_pca=pc.fit_transform(df1_scaled)"
   ]
  },
  {
   "cell_type": "code",
   "execution_count": 53,
   "id": "a1eab08a",
   "metadata": {},
   "outputs": [
    {
     "data": {
      "image/png": "[encoded data removed]",
      "text/plain": [
       "<Figure size 720x432 with 1 Axes>"
      ]
     },
     "metadata": {
      "needs_background": "light"
     },
     "output_type": "display_data"
    }
   ],
   "source": [
    "fig,ax = plt.subplots(figsize = (10,6))\n",
    "pcas= list(range(0,13))\n",
    "evr= []\n",
    "for i in range(0,13):\n",
    "    pca = PCA(n_components = i, random_state = 10)\n",
    "    pca_model = pca.fit_transform(df1_scaled)\n",
    "    evr.append(sum(pca.explained_variance_ratio_))\n",
    "plt.plot(pcas,evr)\n",
    "plt.axhline(y=0.95, color='r', linestyle='-')\n",
    "plt.xlabel(\"Number of principal components\", fontsize = 20)\n",
    "plt.ylabel(\"Explained variation Ratio\", fontsize = 20)\n",
    "plt.title(\"PCA vs Explained Variation\", fontsize =30)\n",
    "plt.show()"
   ]
  },
  {
   "cell_type": "code",
   "execution_count": 54,
   "id": "f3162204",
   "metadata": {},
   "outputs": [
    {
     "data": {
      "text/plain": [
       "1.0"
      ]
     },
     "execution_count": 54,
     "metadata": {},
     "output_type": "execute_result"
    }
   ],
   "source": [
    "sum(pca.explained_variance_ratio_)"
   ]
  },
  {
   "cell_type": "code",
   "execution_count": 55,
   "id": "2649a4eb",
   "metadata": {},
   "outputs": [],
   "source": [
    "var_ratio={}\n",
    "for i in range(1,13):\n",
    "    pca = PCA(n_components = i,random_state=10)\n",
    "    pca_model = pca.fit_transform(df1_scaled)\n",
    "    var_ratio[i]=(sum(pca.explained_variance_ratio_))"
   ]
  },
  {
   "cell_type": "code",
   "execution_count": 56,
   "id": "5a25e79b",
   "metadata": {},
   "outputs": [
    {
     "data": {
      "text/plain": [
       "{1: 0.33042485331130644,\n",
       " 2: 0.5463875539093201,\n",
       " 3: 0.7051754367228207,\n",
       " 4: 0.8135161112502938,\n",
       " 5: 0.8764434213829287,\n",
       " 6: 0.9276878515368205,\n",
       " 7: 0.9573273125434403,\n",
       " 8: 0.9841980295576225,\n",
       " 9: 0.9944172631862235,\n",
       " 10: 0.9974657642754153,\n",
       " 11: 1.0,\n",
       " 12: 1.0}"
      ]
     },
     "execution_count": 56,
     "metadata": {},
     "output_type": "execute_result"
    }
   ],
   "source": [
    "var_ratio"
   ]
  },
  {
   "cell_type": "markdown",
   "id": "e946c6ae",
   "metadata": {},
   "source": [
    "<b>- Since 7 components are explaining about 95% variance so we select 6 components."
   ]
  },
  {
   "cell_type": "code",
   "execution_count": 57,
   "id": "98adea1a",
   "metadata": {},
   "outputs": [
    {
     "data": {
      "text/plain": [
       "(8950, 12)"
      ]
     },
     "execution_count": 57,
     "metadata": {},
     "output_type": "execute_result"
    }
   ],
   "source": [
    "df1_scaled.shape"
   ]
  },
  {
   "cell_type": "code",
   "execution_count": 58,
   "id": "a6e3518b",
   "metadata": {},
   "outputs": [],
   "source": [
    "pc_final=PCA(n_components=7).fit(df1_scaled)\n",
    "\n",
    "reduced_df1=pc_final.fit_transform(df1_scaled)"
   ]
  },
  {
   "cell_type": "code",
   "execution_count": 59,
   "id": "e894fa47",
   "metadata": {},
   "outputs": [],
   "source": [
    "df1_final=pd.DataFrame(reduced_df1)"
   ]
  },
  {
   "cell_type": "code",
   "execution_count": 60,
   "id": "79243466",
   "metadata": {},
   "outputs": [
    {
     "data": {
      "text/html": [
       "<div>\n",
       "<style scoped>\n",
       "    .dataframe tbody tr th:only-of-type {\n",
       "        vertical-align: middle;\n",
       "    }\n",
       "\n",
       "    .dataframe tbody tr th {\n",
       "        vertical-align: top;\n",
       "    }\n",
       "\n",
       "    .dataframe thead th {\n",
       "        text-align: right;\n",
       "    }\n",
       "</style>\n",
       "<table border=\"1\" class=\"dataframe\">\n",
       "  <thead>\n",
       "    <tr style=\"text-align: right;\">\n",
       "      <th></th>\n",
       "      <th>0</th>\n",
       "      <th>1</th>\n",
       "      <th>2</th>\n",
       "      <th>3</th>\n",
       "      <th>4</th>\n",
       "      <th>5</th>\n",
       "      <th>6</th>\n",
       "    </tr>\n",
       "  </thead>\n",
       "  <tbody>\n",
       "    <tr>\n",
       "      <th>0</th>\n",
       "      <td>-0.573897</td>\n",
       "      <td>2.381900</td>\n",
       "      <td>0.508158</td>\n",
       "      <td>-0.509306</td>\n",
       "      <td>0.175093</td>\n",
       "      <td>-0.218057</td>\n",
       "      <td>0.095394</td>\n",
       "    </tr>\n",
       "    <tr>\n",
       "      <th>1</th>\n",
       "      <td>-2.695724</td>\n",
       "      <td>-0.415220</td>\n",
       "      <td>-0.336505</td>\n",
       "      <td>1.282546</td>\n",
       "      <td>-0.353469</td>\n",
       "      <td>-0.496226</td>\n",
       "      <td>0.048126</td>\n",
       "    </tr>\n",
       "    <tr>\n",
       "      <th>2</th>\n",
       "      <td>1.319018</td>\n",
       "      <td>-2.147616</td>\n",
       "      <td>1.256475</td>\n",
       "      <td>-2.028271</td>\n",
       "      <td>-0.188766</td>\n",
       "      <td>-0.817593</td>\n",
       "      <td>1.648655</td>\n",
       "    </tr>\n",
       "    <tr>\n",
       "      <th>3</th>\n",
       "      <td>-0.852220</td>\n",
       "      <td>-1.428964</td>\n",
       "      <td>2.001050</td>\n",
       "      <td>-1.555814</td>\n",
       "      <td>1.265772</td>\n",
       "      <td>0.563486</td>\n",
       "      <td>-0.075481</td>\n",
       "    </tr>\n",
       "    <tr>\n",
       "      <th>4</th>\n",
       "      <td>-1.080840</td>\n",
       "      <td>-1.297400</td>\n",
       "      <td>1.107416</td>\n",
       "      <td>-1.515114</td>\n",
       "      <td>-0.173895</td>\n",
       "      <td>-0.777219</td>\n",
       "      <td>-1.193094</td>\n",
       "    </tr>\n",
       "  </tbody>\n",
       "</table>\n",
       "</div>"
      ],
      "text/plain": [
       "          0         1         2         3         4         5         6\n",
       "0 -0.573897  2.381900  0.508158 -0.509306  0.175093 -0.218057  0.095394\n",
       "1 -2.695724 -0.415220 -0.336505  1.282546 -0.353469 -0.496226  0.048126\n",
       "2  1.319018 -2.147616  1.256475 -2.028271 -0.188766 -0.817593  1.648655\n",
       "3 -0.852220 -1.428964  2.001050 -1.555814  1.265772  0.563486 -0.075481\n",
       "4 -1.080840 -1.297400  1.107416 -1.515114 -0.173895 -0.777219 -1.193094"
      ]
     },
     "execution_count": 60,
     "metadata": {},
     "output_type": "execute_result"
    }
   ],
   "source": [
    "df1_final.head()"
   ]
  },
  {
   "cell_type": "markdown",
   "id": "8fcac7a5",
   "metadata": {},
   "source": [
    "- <b>So initially we had 18 variables now there are 7 so our variables  have reduced"
   ]
  },
  {
   "cell_type": "code",
   "execution_count": 61,
   "id": "586c7cc8",
   "metadata": {},
   "outputs": [
    {
     "data": {
      "text/plain": [
       "Index(['BALANCE_FREQUENCY', 'ONEOFF_PURCHASES', 'INSTALLMENTS_PURCHASES',\n",
       "       'PURCHASES_FREQUENCY', 'ONEOFF_PURCHASES_FREQUENCY',\n",
       "       'CASH_ADVANCE_FREQUENCY', 'limit_usage', 'payment_minpay',\n",
       "       'both_oneoff_&_installment', 'installment', 'none', 'one_off'],\n",
       "      dtype='object')"
      ]
     },
     "execution_count": 61,
     "metadata": {},
     "output_type": "execute_result"
    }
   ],
   "source": [
    "df1.columns"
   ]
  },
  {
   "cell_type": "code",
   "execution_count": 62,
   "id": "f3745864",
   "metadata": {},
   "outputs": [
    {
     "data": {
      "text/html": [
       "<div>\n",
       "<style scoped>\n",
       "    .dataframe tbody tr th:only-of-type {\n",
       "        vertical-align: middle;\n",
       "    }\n",
       "\n",
       "    .dataframe tbody tr th {\n",
       "        vertical-align: top;\n",
       "    }\n",
       "\n",
       "    .dataframe thead th {\n",
       "        text-align: right;\n",
       "    }\n",
       "</style>\n",
       "<table border=\"1\" class=\"dataframe\">\n",
       "  <thead>\n",
       "    <tr style=\"text-align: right;\">\n",
       "      <th></th>\n",
       "      <th>PC_0</th>\n",
       "      <th>PC_1</th>\n",
       "      <th>PC_2</th>\n",
       "      <th>PC_3</th>\n",
       "      <th>PC_4</th>\n",
       "      <th>PC_5</th>\n",
       "      <th>PC_6</th>\n",
       "    </tr>\n",
       "  </thead>\n",
       "  <tbody>\n",
       "    <tr>\n",
       "      <th>BALANCE_FREQUENCY</th>\n",
       "      <td>0.058885</td>\n",
       "      <td>-0.177519</td>\n",
       "      <td>-0.485584</td>\n",
       "      <td>-0.237282</td>\n",
       "      <td>-0.448821</td>\n",
       "      <td>-0.526842</td>\n",
       "      <td>-0.011252</td>\n",
       "    </tr>\n",
       "    <tr>\n",
       "      <th>ONEOFF_PURCHASES</th>\n",
       "      <td>0.358474</td>\n",
       "      <td>-0.404527</td>\n",
       "      <td>0.103343</td>\n",
       "      <td>-0.050979</td>\n",
       "      <td>0.095921</td>\n",
       "      <td>0.094986</td>\n",
       "      <td>-0.130379</td>\n",
       "    </tr>\n",
       "    <tr>\n",
       "      <th>INSTALLMENTS_PURCHASES</th>\n",
       "      <td>0.372339</td>\n",
       "      <td>0.320507</td>\n",
       "      <td>-0.268603</td>\n",
       "      <td>0.046319</td>\n",
       "      <td>0.037140</td>\n",
       "      <td>0.149557</td>\n",
       "      <td>-0.147057</td>\n",
       "    </tr>\n",
       "    <tr>\n",
       "      <th>PURCHASES_FREQUENCY</th>\n",
       "      <td>0.430071</td>\n",
       "      <td>0.160758</td>\n",
       "      <td>-0.143649</td>\n",
       "      <td>-0.164224</td>\n",
       "      <td>-0.146825</td>\n",
       "      <td>0.024060</td>\n",
       "      <td>0.295223</td>\n",
       "    </tr>\n",
       "    <tr>\n",
       "      <th>ONEOFF_PURCHASES_FREQUENCY</th>\n",
       "      <td>0.353564</td>\n",
       "      <td>-0.334940</td>\n",
       "      <td>0.033885</td>\n",
       "      <td>-0.000645</td>\n",
       "      <td>-0.074503</td>\n",
       "      <td>-0.078128</td>\n",
       "      <td>0.579226</td>\n",
       "    </tr>\n",
       "    <tr>\n",
       "      <th>CASH_ADVANCE_FREQUENCY</th>\n",
       "      <td>-0.221088</td>\n",
       "      <td>-0.228402</td>\n",
       "      <td>-0.285641</td>\n",
       "      <td>0.127577</td>\n",
       "      <td>-0.405951</td>\n",
       "      <td>0.747264</td>\n",
       "      <td>0.209050</td>\n",
       "    </tr>\n",
       "    <tr>\n",
       "      <th>limit_usage</th>\n",
       "      <td>-0.180383</td>\n",
       "      <td>-0.243024</td>\n",
       "      <td>-0.461292</td>\n",
       "      <td>-0.287647</td>\n",
       "      <td>0.053092</td>\n",
       "      <td>0.055345</td>\n",
       "      <td>-0.438129</td>\n",
       "    </tr>\n",
       "    <tr>\n",
       "      <th>payment_minpay</th>\n",
       "      <td>0.202000</td>\n",
       "      <td>0.010692</td>\n",
       "      <td>0.257525</td>\n",
       "      <td>0.498278</td>\n",
       "      <td>-0.635428</td>\n",
       "      <td>-0.093385</td>\n",
       "      <td>-0.406357</td>\n",
       "    </tr>\n",
       "    <tr>\n",
       "      <th>both_oneoff_&amp;_installment</th>\n",
       "      <td>0.378711</td>\n",
       "      <td>-0.152057</td>\n",
       "      <td>-0.262700</td>\n",
       "      <td>0.299190</td>\n",
       "      <td>0.329545</td>\n",
       "      <td>0.103756</td>\n",
       "      <td>-0.200438</td>\n",
       "    </tr>\n",
       "    <tr>\n",
       "      <th>installment</th>\n",
       "      <td>0.000953</td>\n",
       "      <td>0.559724</td>\n",
       "      <td>-0.012610</td>\n",
       "      <td>-0.292534</td>\n",
       "      <td>-0.228815</td>\n",
       "      <td>0.111022</td>\n",
       "      <td>0.067366</td>\n",
       "    </tr>\n",
       "    <tr>\n",
       "      <th>none</th>\n",
       "      <td>-0.391142</td>\n",
       "      <td>-0.094014</td>\n",
       "      <td>-0.141446</td>\n",
       "      <td>0.420430</td>\n",
       "      <td>0.034110</td>\n",
       "      <td>-0.294270</td>\n",
       "      <td>0.276407</td>\n",
       "    </tr>\n",
       "    <tr>\n",
       "      <th>one_off</th>\n",
       "      <td>-0.028058</td>\n",
       "      <td>-0.327870</td>\n",
       "      <td>0.457952</td>\n",
       "      <td>-0.461338</td>\n",
       "      <td>-0.165432</td>\n",
       "      <td>0.067025</td>\n",
       "      <td>-0.129190</td>\n",
       "    </tr>\n",
       "  </tbody>\n",
       "</table>\n",
       "</div>"
      ],
      "text/plain": [
       "                                PC_0      PC_1      PC_2      PC_3      PC_4  \\\n",
       "BALANCE_FREQUENCY           0.058885 -0.177519 -0.485584 -0.237282 -0.448821   \n",
       "ONEOFF_PURCHASES            0.358474 -0.404527  0.103343 -0.050979  0.095921   \n",
       "INSTALLMENTS_PURCHASES      0.372339  0.320507 -0.268603  0.046319  0.037140   \n",
       "PURCHASES_FREQUENCY         0.430071  0.160758 -0.143649 -0.164224 -0.146825   \n",
       "ONEOFF_PURCHASES_FREQUENCY  0.353564 -0.334940  0.033885 -0.000645 -0.074503   \n",
       "CASH_ADVANCE_FREQUENCY     -0.221088 -0.228402 -0.285641  0.127577 -0.405951   \n",
       "limit_usage                -0.180383 -0.243024 -0.461292 -0.287647  0.053092   \n",
       "payment_minpay              0.202000  0.010692  0.257525  0.498278 -0.635428   \n",
       "both_oneoff_&_installment   0.378711 -0.152057 -0.262700  0.299190  0.329545   \n",
       "installment                 0.000953  0.559724 -0.012610 -0.292534 -0.228815   \n",
       "none                       -0.391142 -0.094014 -0.141446  0.420430  0.034110   \n",
       "one_off                    -0.028058 -0.327870  0.457952 -0.461338 -0.165432   \n",
       "\n",
       "                                PC_5      PC_6  \n",
       "BALANCE_FREQUENCY          -0.526842 -0.011252  \n",
       "ONEOFF_PURCHASES            0.094986 -0.130379  \n",
       "INSTALLMENTS_PURCHASES      0.149557 -0.147057  \n",
       "PURCHASES_FREQUENCY         0.024060  0.295223  \n",
       "ONEOFF_PURCHASES_FREQUENCY -0.078128  0.579226  \n",
       "CASH_ADVANCE_FREQUENCY      0.747264  0.209050  \n",
       "limit_usage                 0.055345 -0.438129  \n",
       "payment_minpay             -0.093385 -0.406357  \n",
       "both_oneoff_&_installment   0.103756 -0.200438  \n",
       "installment                 0.111022  0.067366  \n",
       "none                       -0.294270  0.276407  \n",
       "one_off                     0.067025 -0.129190  "
      ]
     },
     "execution_count": 62,
     "metadata": {},
     "output_type": "execute_result"
    }
   ],
   "source": [
    "pd.DataFrame(pc_final.components_.T, columns=['PC_' +str(i) for i in range(7)],index=df1.columns)"
   ]
  },
  {
   "cell_type": "code",
   "execution_count": 63,
   "id": "f44f7c27",
   "metadata": {},
   "outputs": [
    {
     "data": {
      "text/plain": [
       "PC_0    0.330425\n",
       "PC_1    0.215963\n",
       "PC_2    0.158788\n",
       "PC_3    0.108341\n",
       "PC_4    0.062927\n",
       "PC_5    0.051244\n",
       "PC_6    0.029639\n",
       "dtype: float64"
      ]
     },
     "execution_count": 63,
     "metadata": {},
     "output_type": "execute_result"
    }
   ],
   "source": [
    "pd.Series(pc_final.explained_variance_ratio_,index=['PC_'+ str(i) for i in range(7)])"
   ]
  },
  {
   "cell_type": "markdown",
   "id": "e20235cc",
   "metadata": {},
   "source": [
    "### Clustering"
   ]
  },
  {
   "cell_type": "code",
   "execution_count": 64,
   "id": "12b48b30",
   "metadata": {},
   "outputs": [],
   "source": [
    "from sklearn.cluster import KMeans"
   ]
  },
  {
   "cell_type": "code",
   "execution_count": 65,
   "id": "30bfbaab",
   "metadata": {},
   "outputs": [
    {
     "name": "stdout",
     "output_type": "stream",
     "text": [
      "WCSS\n",
      " [102816.95336716567, 75482.24454382187, 53900.227520874454, 36571.441689422194, 32958.799354911025, 29363.469737643332, 26551.138980432086, 24329.380397814362, 21953.215735439146]\n"
     ]
    },
    {
     "data": {
      "image/png": "[encoded data removed]",
      "text/plain": [
       "<Figure size 432x288 with 1 Axes>"
      ]
     },
     "metadata": {
      "needs_background": "light"
     },
     "output_type": "display_data"
    }
   ],
   "source": [
    "wcss = []\n",
    "for i in range(1,10): # no of clusters\n",
    "    m = KMeans(n_clusters=i)\n",
    "    m.fit(df1_final)\n",
    "    wcss.append(m.inertia_)\n",
    "\n",
    "print('WCSS\\n',wcss)\n",
    "plt.plot(list(range(1,10)),wcss)\n",
    "plt.xlabel('No of clusters')\n",
    "plt.ylabel('WCSS')\n",
    "plt.show()"
   ]
  },
  {
   "cell_type": "code",
   "execution_count": 66,
   "id": "6de622db",
   "metadata": {},
   "outputs": [],
   "source": [
    "from sklearn.metrics import silhouette_score"
   ]
  },
  {
   "cell_type": "code",
   "execution_count": 67,
   "id": "0d459021",
   "metadata": {},
   "outputs": [
    {
     "name": "stdout",
     "output_type": "stream",
     "text": [
      "Silhouette Score at K=2 0.28950657051843065\n",
      "Silhouette Score at K=3 0.36985094113218764\n",
      "Silhouette Score at K=4 0.4665831723090207\n",
      "Silhouette Score at K=5 0.41144049647764086\n",
      "Silhouette Score at K=6 0.40632982317564104\n",
      "Silhouette Score at K=7 0.38754055503138335\n",
      "Silhouette Score at K=8 0.36208013331659\n",
      "Silhouette Score at K=9 0.3718835062105665\n"
     ]
    }
   ],
   "source": [
    "for i in range(2,10):\n",
    "    m=KMeans(n_clusters=i).fit(df1_final)\n",
    "    print(f'Silhouette Score at K={i}',silhouette_score(df1_final,m.labels_))"
   ]
  },
  {
   "cell_type": "markdown",
   "id": "484e22dd",
   "metadata": {},
   "source": [
    "- <b> Optimal value at K=4 as silhouette score highest and closest to 1. Also, in primary analysis we made 4 categories. "
   ]
  },
  {
   "cell_type": "code",
   "execution_count": 68,
   "id": "434e6fd1",
   "metadata": {},
   "outputs": [],
   "source": [
    "from yellowbrick.cluster import SilhouetteVisualizer"
   ]
  },
  {
   "cell_type": "code",
   "execution_count": 69,
   "id": "dd5b2965",
   "metadata": {},
   "outputs": [
    {
     "data": {
      "image/png": "[encoded data removed]",
      "text/plain": [
       "<Figure size 576x396 with 1 Axes>"
      ]
     },
     "metadata": {},
     "output_type": "display_data"
    }
   ],
   "source": [
    "m2=KMeans(n_clusters=4)\n",
    "visualizer=SilhouetteVisualizer(m2,colors='yellowbrick')\n",
    "visualizer.fit(df1_final)\n",
    "plt.show()"
   ]
  },
  {
   "cell_type": "code",
   "execution_count": 70,
   "id": "9b6a81a1",
   "metadata": {},
   "outputs": [],
   "source": [
    "from collections import Counter"
   ]
  },
  {
   "cell_type": "code",
   "execution_count": 71,
   "id": "3612010f",
   "metadata": {},
   "outputs": [
    {
     "name": "stdout",
     "output_type": "stream",
     "text": [
      "Counter({0: 2774, 1: 2260, 3: 2042, 2: 1874})\n"
     ]
    }
   ],
   "source": [
    "ypred2=m2.predict(df1_final)\n",
    "c1=Counter(ypred2)\n",
    "print(c1)"
   ]
  },
  {
   "cell_type": "code",
   "execution_count": 72,
   "id": "c8f604ff",
   "metadata": {},
   "outputs": [
    {
     "data": {
      "image/png": "[encoded data removed]",
      "text/plain": [
       "<Figure size 576x396 with 1 Axes>"
      ]
     },
     "metadata": {},
     "output_type": "display_data"
    }
   ],
   "source": [
    "data = c1\n",
    "names = list(data.keys())\n",
    "values = list(data.values())\n",
    "\n",
    "plt.bar(range(len(data)), values, tick_label=names)\n",
    "plt.show()"
   ]
  },
  {
   "cell_type": "markdown",
   "id": "3e980d90",
   "metadata": {},
   "source": [
    "### Applying KMeans at K=4"
   ]
  },
  {
   "cell_type": "code",
   "execution_count": 73,
   "id": "08169acd",
   "metadata": {},
   "outputs": [
    {
     "name": "stdout",
     "output_type": "stream",
     "text": [
      "[0 2 1 ... 0 2 1]\n"
     ]
    }
   ],
   "source": [
    "k4= KMeans(n_clusters=4)\n",
    "k4.fit(df1_final)\n",
    "ypred4=k4.predict(df1_final)\n",
    "print(ypred4)"
   ]
  },
  {
   "cell_type": "code",
   "execution_count": 74,
   "id": "12c6d31f",
   "metadata": {},
   "outputs": [
    {
     "name": "stdout",
     "output_type": "stream",
     "text": [
      "[0 2 1 ... 0 2 1]\n"
     ]
    }
   ],
   "source": [
    "labels4= k4.labels_\n",
    "print(labels4)"
   ]
  },
  {
   "cell_type": "code",
   "execution_count": 75,
   "id": "1e11bd80",
   "metadata": {},
   "outputs": [
    {
     "name": "stdout",
     "output_type": "stream",
     "text": [
      "[[ 0.00649839  2.49570347 -0.04134182 -0.65434699 -0.29727841  0.11746166\n",
      "   0.04122405]\n",
      " [-0.21617898 -1.65109045  1.69561553 -1.16546995 -0.24274433  0.08008937\n",
      "  -0.08928709]\n",
      " [-2.85257561 -0.44812476 -0.49572141  1.0053438   0.04737553 -0.33283036\n",
      "   0.18082106]\n",
      " [ 2.24058848 -0.58798687 -0.74689541  0.58039035  0.37130903  0.09520143\n",
      "  -0.10637309]]\n"
     ]
    }
   ],
   "source": [
    "cent4= k4.cluster_centers_\n",
    "print(cent4)"
   ]
  },
  {
   "cell_type": "code",
   "execution_count": 76,
   "id": "62515428",
   "metadata": {},
   "outputs": [],
   "source": [
    "df1_pair_plot=pd.DataFrame(reduced_df1,columns=['PC_' +str(i) for i in range(7)])"
   ]
  },
  {
   "cell_type": "code",
   "execution_count": 77,
   "id": "0006e884",
   "metadata": {},
   "outputs": [
    {
     "data": {
      "text/html": [
       "<div>\n",
       "<style scoped>\n",
       "    .dataframe tbody tr th:only-of-type {\n",
       "        vertical-align: middle;\n",
       "    }\n",
       "\n",
       "    .dataframe tbody tr th {\n",
       "        vertical-align: top;\n",
       "    }\n",
       "\n",
       "    .dataframe thead th {\n",
       "        text-align: right;\n",
       "    }\n",
       "</style>\n",
       "<table border=\"1\" class=\"dataframe\">\n",
       "  <thead>\n",
       "    <tr style=\"text-align: right;\">\n",
       "      <th></th>\n",
       "      <th>PC_0</th>\n",
       "      <th>PC_1</th>\n",
       "      <th>PC_2</th>\n",
       "      <th>PC_3</th>\n",
       "      <th>PC_4</th>\n",
       "      <th>PC_5</th>\n",
       "      <th>PC_6</th>\n",
       "      <th>Cls4</th>\n",
       "    </tr>\n",
       "  </thead>\n",
       "  <tbody>\n",
       "    <tr>\n",
       "      <th>0</th>\n",
       "      <td>-0.573897</td>\n",
       "      <td>2.381900</td>\n",
       "      <td>0.508158</td>\n",
       "      <td>-0.509306</td>\n",
       "      <td>0.175093</td>\n",
       "      <td>-0.218057</td>\n",
       "      <td>0.095394</td>\n",
       "      <td>0</td>\n",
       "    </tr>\n",
       "    <tr>\n",
       "      <th>1</th>\n",
       "      <td>-2.695724</td>\n",
       "      <td>-0.415220</td>\n",
       "      <td>-0.336505</td>\n",
       "      <td>1.282546</td>\n",
       "      <td>-0.353469</td>\n",
       "      <td>-0.496226</td>\n",
       "      <td>0.048126</td>\n",
       "      <td>2</td>\n",
       "    </tr>\n",
       "    <tr>\n",
       "      <th>2</th>\n",
       "      <td>1.319018</td>\n",
       "      <td>-2.147616</td>\n",
       "      <td>1.256475</td>\n",
       "      <td>-2.028271</td>\n",
       "      <td>-0.188766</td>\n",
       "      <td>-0.817593</td>\n",
       "      <td>1.648655</td>\n",
       "      <td>1</td>\n",
       "    </tr>\n",
       "    <tr>\n",
       "      <th>3</th>\n",
       "      <td>-0.852220</td>\n",
       "      <td>-1.428964</td>\n",
       "      <td>2.001050</td>\n",
       "      <td>-1.555814</td>\n",
       "      <td>1.265772</td>\n",
       "      <td>0.563486</td>\n",
       "      <td>-0.075481</td>\n",
       "      <td>1</td>\n",
       "    </tr>\n",
       "    <tr>\n",
       "      <th>4</th>\n",
       "      <td>-1.080840</td>\n",
       "      <td>-1.297400</td>\n",
       "      <td>1.107416</td>\n",
       "      <td>-1.515114</td>\n",
       "      <td>-0.173895</td>\n",
       "      <td>-0.777219</td>\n",
       "      <td>-1.193094</td>\n",
       "      <td>1</td>\n",
       "    </tr>\n",
       "    <tr>\n",
       "      <th>5</th>\n",
       "      <td>-0.239809</td>\n",
       "      <td>2.093509</td>\n",
       "      <td>-1.584552</td>\n",
       "      <td>-1.848880</td>\n",
       "      <td>0.168270</td>\n",
       "      <td>-0.221862</td>\n",
       "      <td>-0.620888</td>\n",
       "      <td>0</td>\n",
       "    </tr>\n",
       "    <tr>\n",
       "      <th>6</th>\n",
       "      <td>4.009873</td>\n",
       "      <td>-0.934967</td>\n",
       "      <td>0.312912</td>\n",
       "      <td>1.682406</td>\n",
       "      <td>-1.002151</td>\n",
       "      <td>-0.737742</td>\n",
       "      <td>0.290994</td>\n",
       "      <td>3</td>\n",
       "    </tr>\n",
       "    <tr>\n",
       "      <th>7</th>\n",
       "      <td>0.072151</td>\n",
       "      <td>2.197158</td>\n",
       "      <td>-1.266601</td>\n",
       "      <td>-1.638925</td>\n",
       "      <td>-0.226515</td>\n",
       "      <td>-0.323830</td>\n",
       "      <td>-0.341443</td>\n",
       "      <td>0</td>\n",
       "    </tr>\n",
       "    <tr>\n",
       "      <th>8</th>\n",
       "      <td>1.422991</td>\n",
       "      <td>-0.229265</td>\n",
       "      <td>-0.370910</td>\n",
       "      <td>0.520928</td>\n",
       "      <td>1.042041</td>\n",
       "      <td>-0.402184</td>\n",
       "      <td>-0.734887</td>\n",
       "      <td>3</td>\n",
       "    </tr>\n",
       "    <tr>\n",
       "      <th>9</th>\n",
       "      <td>0.171630</td>\n",
       "      <td>-1.074997</td>\n",
       "      <td>3.399784</td>\n",
       "      <td>0.072043</td>\n",
       "      <td>-0.263681</td>\n",
       "      <td>0.051287</td>\n",
       "      <td>-0.726382</td>\n",
       "      <td>1</td>\n",
       "    </tr>\n",
       "  </tbody>\n",
       "</table>\n",
       "</div>"
      ],
      "text/plain": [
       "       PC_0      PC_1      PC_2      PC_3      PC_4      PC_5      PC_6  Cls4\n",
       "0 -0.573897  2.381900  0.508158 -0.509306  0.175093 -0.218057  0.095394     0\n",
       "1 -2.695724 -0.415220 -0.336505  1.282546 -0.353469 -0.496226  0.048126     2\n",
       "2  1.319018 -2.147616  1.256475 -2.028271 -0.188766 -0.817593  1.648655     1\n",
       "3 -0.852220 -1.428964  2.001050 -1.555814  1.265772  0.563486 -0.075481     1\n",
       "4 -1.080840 -1.297400  1.107416 -1.515114 -0.173895 -0.777219 -1.193094     1\n",
       "5 -0.239809  2.093509 -1.584552 -1.848880  0.168270 -0.221862 -0.620888     0\n",
       "6  4.009873 -0.934967  0.312912  1.682406 -1.002151 -0.737742  0.290994     3\n",
       "7  0.072151  2.197158 -1.266601 -1.638925 -0.226515 -0.323830 -0.341443     0\n",
       "8  1.422991 -0.229265 -0.370910  0.520928  1.042041 -0.402184 -0.734887     3\n",
       "9  0.171630 -1.074997  3.399784  0.072043 -0.263681  0.051287 -0.726382     1"
      ]
     },
     "execution_count": 77,
     "metadata": {},
     "output_type": "execute_result"
    }
   ],
   "source": [
    "df1_pair_plot['Cls4']=ypred4\n",
    "df1_pair_plot.head(10)"
   ]
  },
  {
   "cell_type": "markdown",
   "id": "13f1dfbc",
   "metadata": {},
   "source": [
    "### Clustering Result"
   ]
  },
  {
   "cell_type": "code",
   "execution_count": 78,
   "id": "daf7b117",
   "metadata": {},
   "outputs": [
    {
     "data": {
      "text/html": [
       "<div>\n",
       "<style scoped>\n",
       "    .dataframe tbody tr th:only-of-type {\n",
       "        vertical-align: middle;\n",
       "    }\n",
       "\n",
       "    .dataframe tbody tr th {\n",
       "        vertical-align: top;\n",
       "    }\n",
       "\n",
       "    .dataframe thead th {\n",
       "        text-align: right;\n",
       "    }\n",
       "</style>\n",
       "<table border=\"1\" class=\"dataframe\">\n",
       "  <thead>\n",
       "    <tr style=\"text-align: right;\">\n",
       "      <th>Cls4</th>\n",
       "      <th>0</th>\n",
       "      <th>1</th>\n",
       "      <th>2</th>\n",
       "      <th>3</th>\n",
       "    </tr>\n",
       "  </thead>\n",
       "  <tbody>\n",
       "    <tr>\n",
       "      <th>PC_0</th>\n",
       "      <td>0.006498</td>\n",
       "      <td>-0.216179</td>\n",
       "      <td>-2.852576</td>\n",
       "      <td>2.240588</td>\n",
       "    </tr>\n",
       "    <tr>\n",
       "      <th>PC_1</th>\n",
       "      <td>2.495703</td>\n",
       "      <td>-1.651090</td>\n",
       "      <td>-0.448125</td>\n",
       "      <td>-0.587987</td>\n",
       "    </tr>\n",
       "    <tr>\n",
       "      <th>PC_2</th>\n",
       "      <td>-0.041342</td>\n",
       "      <td>1.695616</td>\n",
       "      <td>-0.495721</td>\n",
       "      <td>-0.746895</td>\n",
       "    </tr>\n",
       "    <tr>\n",
       "      <th>PC_3</th>\n",
       "      <td>-0.654347</td>\n",
       "      <td>-1.165470</td>\n",
       "      <td>1.005344</td>\n",
       "      <td>0.580390</td>\n",
       "    </tr>\n",
       "    <tr>\n",
       "      <th>PC_4</th>\n",
       "      <td>-0.297278</td>\n",
       "      <td>-0.242744</td>\n",
       "      <td>0.047376</td>\n",
       "      <td>0.371309</td>\n",
       "    </tr>\n",
       "    <tr>\n",
       "      <th>PC_5</th>\n",
       "      <td>0.117462</td>\n",
       "      <td>0.080089</td>\n",
       "      <td>-0.332830</td>\n",
       "      <td>0.095201</td>\n",
       "    </tr>\n",
       "    <tr>\n",
       "      <th>PC_6</th>\n",
       "      <td>0.041224</td>\n",
       "      <td>-0.089287</td>\n",
       "      <td>0.180821</td>\n",
       "      <td>-0.106373</td>\n",
       "    </tr>\n",
       "  </tbody>\n",
       "</table>\n",
       "</div>"
      ],
      "text/plain": [
       "Cls4         0         1         2         3\n",
       "PC_0  0.006498 -0.216179 -2.852576  2.240588\n",
       "PC_1  2.495703 -1.651090 -0.448125 -0.587987\n",
       "PC_2 -0.041342  1.695616 -0.495721 -0.746895\n",
       "PC_3 -0.654347 -1.165470  1.005344  0.580390\n",
       "PC_4 -0.297278 -0.242744  0.047376  0.371309\n",
       "PC_5  0.117462  0.080089 -0.332830  0.095201\n",
       "PC_6  0.041224 -0.089287  0.180821 -0.106373"
      ]
     },
     "execution_count": 78,
     "metadata": {},
     "output_type": "execute_result"
    }
   ],
   "source": [
    "res=df1_pair_plot.iloc[:,:].groupby(['Cls4']).mean().T\n",
    "res"
   ]
  },
  {
   "cell_type": "code",
   "execution_count": null,
   "id": "9aed89d9",
   "metadata": {},
   "outputs": [],
   "source": []
  }
 ],
 "metadata": {
  "kernelspec": {
   "display_name": "Python 3 (ipykernel)",
   "language": "python",
   "name": "python3"
  },
  "language_info": {
   "codemirror_mode": {
    "name": "ipython",
    "version": 3
   },
   "file_extension": ".py",
   "mimetype": "text/x-python",
   "name": "python",
   "nbconvert_exporter": "python",
   "pygments_lexer": "ipython3",
   "version": "3.9.7"
  }
 },
 "nbformat": 4,
 "nbformat_minor": 5
}
